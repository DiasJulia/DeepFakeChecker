{
  "cells": [
    {
      "cell_type": "markdown",
      "metadata": {
        "id": "1zCfeg3dtKpy"
      },
      "source": [
        "# **IMPORTAÇÕES**"
      ]
    },
    {
      "cell_type": "code",
      "execution_count": null,
      "metadata": {
        "id": "_iBU0OY13OOf"
      },
      "outputs": [],
      "source": [
        "import librosa as librosa\n",
        "import numpy as np\n",
        "import pandas as pd\n",
        "import os\n",
        "import matplotlib.pyplot as plt\n",
        "import librosa.display\n",
        "from IPython.display import Audio\n",
        "\n",
        "from sklearn.model_selection import train_test_split\n",
        "from sklearn.neighbors import KNeighborsClassifier\n",
        "from sklearn.metrics import classification_report, accuracy_score, confusion_matrix, precision_score\n",
        "from sklearn.preprocessing import MinMaxScaler\n",
        "import seaborn as sns\n",
        "\n",
        "import zipfile\n",
        "import random"
      ]
    },
    {
      "cell_type": "markdown",
      "metadata": {
        "id": "lGsUsrAREqXf"
      },
      "source": [
        "# **DOCUMENTAÇÕES E LINKS ÚTEIS**"
      ]
    },
    {
      "cell_type": "markdown",
      "metadata": {
        "id": "FABffU-tVWtj"
      },
      "source": [
        "https://librosa.org/doc/latest/\n",
        "\n",
        "Base de Dados:\n",
        "https://www.kaggle.com/datasets/birdy654/deep-voice-deepfake-voice-recognition"
      ]
    },
    {
      "cell_type": "markdown",
      "metadata": {
        "id": "i88g56xZ5ZY4"
      },
      "source": [
        "# **INSTRUÇÕES**"
      ]
    },
    {
      "cell_type": "markdown",
      "metadata": {
        "id": "LJG-LzlNVdaX"
      },
      "source": [
        "Para executar, esse colab precisa acessar arquivos específicos, a forma ideal é liberar o acesso ao seu google Drive e seguir as instruções a seguir.\n",
        "\n",
        "É necessário baixar os arquivos dos audios no seu Drive, para isso, as instruções estão indicadas na sessão **IMPORTAR DADOS** abaixo\n",
        "* A pasta que contém o arquivos dos audios precisam estar no seu drive, dentro de uma pasta chamada Sinais e Sistemas\n",
        "* O código foi projetado para operar sobre uma pasta AUDIO que contenha as pastas FAKE e REAL com os audios correspondentea"
      ]
    },
    {
      "cell_type": "code",
      "execution_count": null,
      "metadata": {
        "colab": {
          "base_uri": "https://localhost:8080/"
        },
        "id": "xLci4nlQGbLV",
        "outputId": "4185ba95-1e4c-4359-d213-334e2897a51a"
      },
      "outputs": [
        {
          "name": "stdout",
          "output_type": "stream",
          "text": [
            "Drive already mounted at /content/drive; to attempt to forcibly remount, call drive.mount(\"/content/drive\", force_remount=True).\n"
          ]
        }
      ],
      "source": [
        "from google.colab import drive\n",
        "drive.mount('/content/drive')"
      ]
    },
    {
      "cell_type": "markdown",
      "metadata": {
        "id": "o9IFTYAv6jUq"
      },
      "source": [
        "## **IMPORTAR DADOS**"
      ]
    },
    {
      "cell_type": "markdown",
      "metadata": {
        "id": "0SHuKeDTXJe6"
      },
      "source": [
        "Se for a sua primeira vez executando esse colab, baixe esse arquivo zip e o salve na pasta raíz do seu drive:\n",
        "https://drive.google.com/file/d/1fpl4EArgqflnwK5E76i-QiTf-K5wYqI0/view?usp=drive_link\n",
        "\n",
        "Execute as duas células abaixo, elas irão descompactar o arquivo zip que contém os audios a serem manipulados no seu drive"
      ]
    },
    {
      "cell_type": "code",
      "execution_count": null,
      "metadata": {
        "id": "3YlSv0a44i5L"
      },
      "outputs": [],
      "source": [
        "def unzip(path, destiny):\n",
        "  with zipfile.ZipFile(path, 'r') as zip_ref:\n",
        "      zip_ref.extractall(destiny)"
      ]
    },
    {
      "cell_type": "code",
      "execution_count": null,
      "metadata": {
        "id": "W8f93CKI4xXx"
      },
      "outputs": [],
      "source": [
        "unzip(\"/content/drive/MyDrive/SS-20240320T133811Z-001.zip\", \"/content/drive/MyDrive/\")"
      ]
    },
    {
      "cell_type": "markdown",
      "metadata": {
        "id": "FUJbvPQSgOgs"
      },
      "source": [
        "Alternativamente, você também pode adicionar um atalho à pasta que estamos utilizando na execução do projeto na pasta raíz do seu drive\n",
        "\n",
        "\n",
        "1.   Entre em https://drive.google.com/drive/folders/1iXimH2OSg_BgO_zlXrVId4HHio1eMCMU?usp=drive_link\n",
        "2.   Clique com o botão direito sobre o nome da pasta \"Sinais e Sistemas\"\n",
        "3.   Selecione a opção Organizar\n",
        "4.   Selecione a opção \"adicionar atalho\"\n",
        "5.   Selecione a pasta raíz do seu drive\n"
      ]
    },
    {
      "cell_type": "markdown",
      "metadata": {
        "id": "LvDpfgyR65Q5"
      },
      "source": [
        "# **CARREGAR DADOS**"
      ]
    },
    {
      "cell_type": "markdown",
      "metadata": {
        "id": "nJWRLQy6Vt-v"
      },
      "source": [
        "Com os arquivos descompactados na pasta Sinais e Sistemas do seu drive, pode dar prosseguimento na importação dos dados para o Colab que está executando\n",
        "\n",
        "Vamos agora identificar os diretórios dos arquivos de áudio, listar os arquivos de áudio e criar uma lista de arquivos e categorias:"
      ]
    },
    {
      "cell_type": "code",
      "execution_count": null,
      "metadata": {
        "id": "Bn5lARzvV9KY"
      },
      "outputs": [],
      "source": [
        "# Diretórios dos áudios\n",
        "real_audio_dir = \"/content/drive/MyDrive/Sinais e Sistemas/KAGGLE/AUDIO/REAL\"\n",
        "fake_audio_dir = \"/content/drive/MyDrive/Sinais e Sistemas/KAGGLE/AUDIO/FAKE\"\n",
        "\n",
        "samples_audio_dir = \"/content/drive/MyDrive/Sinais e Sistemas/KAGGLE/AUDIO/SAMPLES/REAL\"\n",
        "\n",
        "real_csv_dir = \"/content/drive/MyDrive/Sinais e Sistemas/Dados/CSV/REAL\"\n",
        "fake_csv_dir = \"/content/drive/MyDrive/Sinais e Sistemas/Dados/CSV/FAKE\"\n",
        "samples_csv_dir = \"/content/drive/MyDrive/Sinais e Sistemas/Dados/CSV/SAMPLES\"\n",
        "\n",
        "# Função para listar os arquivos em um diretório\n",
        "def listar_arquivos(diretorio):\n",
        "    return [os.path.join(diretorio, arquivo) for arquivo in os.listdir(diretorio)]\n",
        "\n",
        "# Listar arquivos e criar lista de arquivos e categorias\n",
        "arquivos_reais = listar_arquivos(real_audio_dir)\n",
        "arquivos_fakes = listar_arquivos(fake_audio_dir)\n",
        "arquivos_samples = listar_arquivos(samples_audio_dir)\n",
        "\n",
        "csv_reais = listar_arquivos(real_csv_dir)\n",
        "csv_fakes = listar_arquivos(fake_csv_dir)\n",
        "csv_samples = listar_arquivos(samples_csv_dir)\n",
        "\n",
        "# Criar uma lista de tuplas (caminho do arquivo, categoria)\n",
        "dados_audio = [(arquivo, 'real') for arquivo in arquivos_reais] + [(arquivo, 'fake') for arquivo in arquivos_fakes]"
      ]
    },
    {
      "cell_type": "markdown",
      "metadata": {
        "id": "V3c0DJaWDLly"
      },
      "source": [
        "# **POR QUE NÃO REALIZAR O PRÉ-PROCESSAMENTO DE DADOS?**"
      ]
    },
    {
      "cell_type": "markdown",
      "metadata": {
        "id": "MOXQzklVDV-L"
      },
      "source": [
        " A escolha deliberada de não realizar um pré-processamento extensivo nos áudios é baseada nas características intrínsecas da base de dados, bem como no objetivo de possibilitar a identificação em cenários amplos. A seguir, apresentamos as principais razões para essa decisão:\n",
        "\n",
        "1. **Variação Realista:**\n",
        "   - A base de dados inclui áudios de oito indivíduos distintos, abrangendo uma variedade de contextos, como discursos de vitória, discursos de premiações e monólogos de despedida. A presença de diferentes condições acústicas, níveis de qualidade e durações de áudio contribui para uma representação realista e diversificada.\n",
        "\n",
        "2. **Preservação de Ambiente e Estilo:**\n",
        "   - O processo de geração de deepfakes envolve uma etapa chamada Retrieval-based Voice Conversion (RVC). Durante essa etapa, a voz original é convertida para outra individualidade sem alterar o ambiente de fundo. A separação prévia dos vocais e dos acompanhamentos garante que o estilo da voz deepfake não seja convertido junto com possíveis ruídos de fundo, como aplausos ou risadas. Essa abordagem visa preservar sons ambientais enquanto converte apenas a voz do falante.\n",
        "\n",
        "3. **Respeito à Integridade dos Dados:**\n",
        "   - Manter os áudios em seu estado original, sem pré-processamento extensivo, preserva a integridade dos dados fornecidos na base de dados. Isso reflete a decisão consciente de respeitar as características únicas de cada áudio e evitar modificações que possam influenciar negativamente na representação fidedigna dos sinais de áudio.\n",
        "\n",
        "Essa estratégia visa garantir que o modelo de reconhecimento de sons seja treinado e avaliado em condições semelhantes às encontradas na base de dados original, proporcionando uma abordagem autêntica para a tarefa em questão."
      ]
    },
    {
      "cell_type": "markdown",
      "metadata": {
        "id": "TwKXEkCe7Nrd"
      },
      "source": [
        "# **ANÁLISE E TRATAMENTO DE DADOS**"
      ]
    },
    {
      "cell_type": "markdown",
      "metadata": {
        "id": "LlojsnwzyO7I"
      },
      "source": [
        "Explorar visualmente os dados é uma etapa valiosa para entender melhor as características e padrões presentes nos áudios.\n",
        "Vamos primeiro visualizar as formas de onda de alguns desses dados:"
      ]
    },
    {
      "cell_type": "code",
      "execution_count": null,
      "metadata": {
        "id": "gyWPqVZb_ErD"
      },
      "outputs": [],
      "source": [
        "def showAudio(audio_path):\n",
        "  plt.figure(figsize=(15, 5))\n",
        "  waveform, sr = librosa.load(audio_path, sr=None)\n",
        "  librosa.display.waveshow(waveform, sr=sr)\n",
        "\n",
        "  plt.title('Forma de Onda - Áudio Real')\n",
        "  plt.xlabel('Tempo (s)')\n",
        "  plt.ylabel('Amplitude')\n",
        "  plt.show()"
      ]
    },
    {
      "cell_type": "code",
      "execution_count": null,
      "metadata": {
        "id": "Dygg4any_kPU"
      },
      "outputs": [],
      "source": [
        "# showAudio(real_audio_dir + \"/biden-original.wav\")"
      ]
    },
    {
      "cell_type": "code",
      "execution_count": null,
      "metadata": {
        "id": "Vep7I3ZoAG56"
      },
      "outputs": [],
      "source": [
        "# showAudio(fake_audio_dir + \"/biden-to-taylor.wav\")"
      ]
    },
    {
      "cell_type": "markdown",
      "metadata": {
        "id": "4dUb1UHgzOFS"
      },
      "source": [
        "A análise visual das formas de onda sugere que o áudio \"biden-to-taylor.wav\" apresenta padrões irregulares na amplitude, indicando características associadas a deepfakes. Essa diferença pode ser explorada ainda mais por meio de técnicas de processamento de áudio e extração de características para desenvolver um modelo de classificação robusto capaz de distinguir entre áudios reais e deepfakes. O desafio reside em identificar padrões sutis que podem não ser visíveis a olho nu, mas que podem ser capturados por algoritmos de aprendizado de máquina."
      ]
    },
    {
      "cell_type": "markdown",
      "metadata": {
        "id": "3fPKwFrzzGAq"
      },
      "source": [
        "Vamos analisar agora os espectogramas. Os espectrogramas são representações visuais da intensidade das frequências em relação ao tempo. Eles podem revelar padrões de frequência ao longo do tempo."
      ]
    },
    {
      "cell_type": "markdown",
      "metadata": {
        "id": "h2IAVXze7jH5"
      },
      "source": [
        "### Short-Time Fourier Transform (STFT)\n",
        "\n",
        "A Transformada de Fourier de Curto Prazo (STFT) é uma técnica utilizada para analisar a frequência de um sinal em relação ao tempo. Em vez de calcular a transformada de Fourier de um sinal completo, a STFT divide o sinal em pequenos segmentos temporais e calcula a transformada de Fourier para cada segmento. Isso é essencial para analisar sinais não estacionários, ou seja, sinais cujas características mudam ao longo do tempo.\n",
        "\n",
        "A biblioteca librosa oferece uma função conveniente, `librosa.stft`, para calcular a STFT de um sinal de áudio. Essa função aceita diversos parâmetros, incluindo o sinal de áudio, o tamanho da janela de Fourier (`n_fft`), o tamanho do salto entre segmentos consecutivos (`hop_length`), e o tamanho da janela de cada segmento (`win_length`).\n",
        "\n",
        "A saída da função é uma matriz complexa que representa a STFT do sinal de áudio. Essa matriz pode ser utilizada para extrair informações espectrais ao longo do tempo.\n",
        "\n",
        "Para uma melhor compreensão visual, a função `librosa.display.specshow` pode ser empregada para exibir o espectrograma associado à STFT, revelando padrões de frequência e variações temporais no sinal de áudio.\n"
      ]
    },
    {
      "cell_type": "code",
      "execution_count": null,
      "metadata": {
        "id": "VgEyG1cp0XxX"
      },
      "outputs": [],
      "source": [
        "def displaySpectogram(audio_path):\n",
        "    y, sr = librosa.load(audio_path, sr=None)\n",
        "    D = librosa.stft(y, n_fft=2048, hop_length=512, win_length=2048, window='hann')\n",
        "    DB = librosa.amplitude_to_db(np.abs(D), ref=np.max)\n",
        "    librosa.display.specshow(DB, sr=sr, hop_length=512, x_axis='time', y_axis='linear')\n",
        "    plt.colorbar(format='%+2.0f dB')\n",
        "    plt.title('Espectrograma')\n",
        "    plt.tight_layout()\n",
        "    plt.show()"
      ]
    },
    {
      "cell_type": "code",
      "execution_count": null,
      "metadata": {
        "id": "i86lsact1e6g"
      },
      "outputs": [],
      "source": [
        "# displaySpectogram(real_audio_dir + \"/biden-original.wav\")"
      ]
    },
    {
      "cell_type": "code",
      "execution_count": null,
      "metadata": {
        "id": "WKiFLGyLHh81"
      },
      "outputs": [],
      "source": [
        "# displaySpectogram(fake_audio_dir + \"/biden-to-taylor.wav\")"
      ]
    },
    {
      "cell_type": "markdown",
      "metadata": {
        "id": "4ZPD4jQy3jSV"
      },
      "source": [
        "A análise dos espectrogramas destaca diferenças marcantes entre os áudios \"biden-original.wav\" e \"biden-to-taylor.wav\". Enquanto o áudio real exibe padrões suaves e consistentes de frequência, o deepfake apresenta oscilações mais pronunciadas e variações irregulares."
      ]
    },
    {
      "cell_type": "markdown",
      "metadata": {
        "id": "1VTwRSi785Ta"
      },
      "source": [
        "# **EXTRAÇÃO DE CARACTERÍSTICAS**"
      ]
    },
    {
      "cell_type": "markdown",
      "metadata": {
        "id": "e4Pxs93ATaoZ"
      },
      "source": [
        "Nesta etapa, realizamos a extração de características dos áudios para utilizá-las como entradas em nosso modelo de classificação. Utilizamos diversas técnicas para extrair informações relevantes dos sinais de áudio."
      ]
    },
    {
      "cell_type": "markdown",
      "metadata": {
        "id": "hHUsaJUcXoY_"
      },
      "source": [
        "## Características que serão extraídas"
      ]
    },
    {
      "cell_type": "markdown",
      "metadata": {
        "id": "Sj6mYSBMXwuN"
      },
      "source": [
        "### Chromagram\n",
        "\n",
        "O *Chromagram* é uma representação do espectro de áudio no domínio da frequência tonal, calculado a partir da Transformada de Fourier de Tempo Curto (Short-Time Fourier Transform - STFT). Ele fornece informações sobre a distribuição da energia em diferentes faixas de tons musicais, sendo útil para identificar padrões tonais e melódicos nas gravações de áudio.\n",
        "\n",
        "<center>$SG(m, k) = |X(m, k)|$</center>"
      ]
    },
    {
      "cell_type": "markdown",
      "metadata": {
        "id": "AtDl8IGtYWV5"
      },
      "source": [
        "### Spectral Centroid (SC)\n",
        "\n",
        "O *Spectral Centroid* é a localização do centro de massa no espectro de áudio. Ele fornece uma medida da \"brilhância\" ou \"tonalidade\" do som, indicando a frequência média ponderada das amplitudes no sinal. Valores mais altos de *Spectral Centroid* geralmente indicam sons mais agudos, enquanto valores mais baixos indicam sons mais graves.\n",
        "\n",
        "<center>$SC(m) = \\frac{\\sum_{k} [k \\cdot SG(m, k)]}{\\sum_{k} [SG(m, k)]}$</center>"
      ]
    },
    {
      "cell_type": "markdown",
      "metadata": {
        "id": "a0GOCYiSYs0y"
      },
      "source": [
        "### Spectral Bandwidth (SB)\n",
        "\n",
        "A *Spectral Bandwidth* é a largura do espectro de frequência. Ela representa a dispersão das frequências no espectro de áudio e fornece informações sobre a \"cor\" ou \"timbre\" do som. A *Spectral Bandwidth* é calculada como a diferença entre as frequências ao redor do *Spectral Centroid*.\n",
        "\n",
        "<center>$SB(m) = \\sqrt{\\frac{\\sum_{k} [(k-SC(m))^2 \\cdot SG(m, k)]}{\\sum_{k} [SG(m, k)]}}$</center>"
      ]
    },
    {
      "cell_type": "markdown",
      "metadata": {
        "id": "gz_XsHhHYwj8"
      },
      "source": [
        "### Spectral Rolloff (SR)\n",
        "\n",
        "O *Spectral Rolloff* é a frequência abaixo da qual uma porcentagem específica da energia total do espectro está contida. Ele fornece uma medida da inclinação do espectro de áudio e é útil para caracterizar a \"brilhância\" ou \"agudeza\" do som.\n",
        "(SR é calculado via a frequência abaixo de 85% da energia espectral total)\n"
      ]
    },
    {
      "cell_type": "markdown",
      "metadata": {
        "id": "IJ2dZbLUY0Be"
      },
      "source": [
        "### Zero Crossing Rate (ZCR)\n",
        "\n",
        "A *Zero Crossing Rate* é a taxa na qual o sinal de áudio muda de sinal, ou seja, cruza o eixo x = 0 e muda de positivo para negativo ou vice-versa. Ela fornece informações sobre a frequência de variação do sinal de áudio e é útil para caracterizar a \"textura\" ou \"aspereza\" do som.\n",
        "\n",
        "<center>$ZCR(m) = \\frac{1}{2N} \\sum_{n=1}^{N-1} [|sgn(x[n]) - sgn(x[n-1])|]$</center>\n"
      ]
    },
    {
      "cell_type": "markdown",
      "metadata": {
        "id": "KdhaTXCkY3NH"
      },
      "source": [
        "### Root Mean Square (RMS)\n",
        "\n",
        "O *Root Mean Square* é uma medida da amplitude média do sinal de áudio. Ele fornece uma medida da \"energia\" ou \"intensidade\" do som, sendo útil para caracterizar a \"loudness\" ou \"volume\" do áudio.\n",
        "\n",
        "<center>$RMS(m) = \\sqrt{\\frac{1}{N} \\sum_{n=0}^{N-1} [(x[n])^2]}$</center>"
      ]
    },
    {
      "cell_type": "markdown",
      "metadata": {
        "id": "eg7lwWqKY5sc"
      },
      "source": [
        "### Mel-Frequency Cepstral Coefficients (MFCCs)\n",
        "\n",
        "Os *Mel-Frequency Cepstral Coefficients* (MFCCs) são coeficientes cepstrais de frequência mel que representam as características mais significativas do espectro de áudio. Eles são calculados aplicando uma janela triangular ao espectro de potência, seguido por uma Transformada Cosseno Discreta (Discrete Cosine Transform - DCT). Os MFCCs capturam informações sobre a forma e a distribuição do espectro de áudio, sendo amplamente utilizados em aplicações de reconhecimento de voz e música."
      ]
    },
    {
      "cell_type": "markdown",
      "metadata": {
        "id": "rxWZ7B0NTRor"
      },
      "source": [
        "## Funções de Extração de Características"
      ]
    },
    {
      "cell_type": "code",
      "execution_count": null,
      "metadata": {
        "id": "YzDA4L9E9EyM"
      },
      "outputs": [],
      "source": [
        "def extract_mfcc(audio_segment, sample_rate):\n",
        "    features = librosa.feature.mfcc(y=audio_segment, sr=sample_rate, n_mfcc=20)\n",
        "    avg_features = np.mean(features, axis=1)\n",
        "    return avg_features\n",
        "\n",
        "def extract_chroma_stft(audio_segment, sample_rate):\n",
        "    features = librosa.feature.chroma_stft(y=audio_segment, sr=sample_rate)\n",
        "    avg_features = np.mean(features, axis=1)\n",
        "    return avg_features\n",
        "\n",
        "def extract_rms(audio_segment):\n",
        "    features = librosa.feature.rms(y=audio_segment)\n",
        "    avg_features = np.mean(features, axis=1)\n",
        "    return avg_features\n",
        "\n",
        "def extract_spectral_centroid(audio_segment, sample_rate):\n",
        "    features = librosa.feature.spectral_centroid(y=audio_segment, sr=sample_rate)\n",
        "    avg_features = np.mean(features, axis=1)\n",
        "    return avg_features\n",
        "\n",
        "def extract_spectral_bandwidth(audio_segment, sample_rate):\n",
        "    features = librosa.feature.spectral_bandwidth(y=audio_segment, sr=sample_rate)\n",
        "    avg_features = np.mean(features, axis=1)\n",
        "    return avg_features\n",
        "\n",
        "def extract_spectral_rolloff(audio_segment, sample_rate):\n",
        "    features = librosa.feature.spectral_rolloff(y=audio_segment, sr=sample_rate)\n",
        "    avg_features = np.mean(features, axis=1)\n",
        "    return avg_features\n",
        "\n",
        "def extract_zero_crossing_rate(audio_segment):\n",
        "    features = librosa.feature.zero_crossing_rate(y=audio_segment)\n",
        "    avg_features = np.mean(features, axis=1)\n",
        "    return avg_features"
      ]
    },
    {
      "cell_type": "markdown",
      "metadata": {
        "id": "uMXuVlCcTm0G"
      },
      "source": [
        "## Processamento dos Áudios\n",
        "Aqui extraímos as features dos audios fornecidos"
      ]
    },
    {
      "cell_type": "code",
      "execution_count": null,
      "metadata": {
        "id": "kWkMH8Ga8-Wn"
      },
      "outputs": [],
      "source": [
        "def process_audio(label, audio_file, segment_duration=20):\n",
        "    audio, sample_rate = librosa.load(audio_file, sr=None)\n",
        "    num_segments = int(len(audio) / (sample_rate * segment_duration))\n",
        "\n",
        "    features_list = []\n",
        "\n",
        "    for i in range(num_segments):\n",
        "        start = i * sample_rate * segment_duration\n",
        "        end = (i + 1) * sample_rate * segment_duration\n",
        "        segment = audio[start:end]\n",
        "        features_chroma = extract_chroma_stft(segment, sample_rate)\n",
        "        features_rms = extract_rms(segment)\n",
        "        features_spectral_centroid = extract_spectral_centroid(segment, sample_rate)\n",
        "        features_spectral_bandwidth = extract_spectral_bandwidth(segment, sample_rate)\n",
        "        features_spectral_rolloff = extract_spectral_rolloff(segment, sample_rate)\n",
        "        features_zero_crossing_rate = extract_zero_crossing_rate(segment)\n",
        "        features_mfcc = extract_mfcc(segment, sample_rate)\n",
        "\n",
        "        # Arredondar os valores para até a 6ª casa decimal\n",
        "        features_chroma = np.round(features_chroma, 6)\n",
        "        features_rms = np.round(features_rms, 6)\n",
        "        features_spectral_centroid = np.round(features_spectral_centroid, 6)\n",
        "        features_spectral_bandwidth = np.round(features_spectral_bandwidth, 6)\n",
        "        features_spectral_rolloff = np.round(features_spectral_rolloff, 6)\n",
        "        features_zero_crossing_rate = np.round(features_zero_crossing_rate, 6)\n",
        "        features_mfcc = np.round(features_mfcc, 6)\n",
        "\n",
        "        features_list.append(np.concatenate((features_chroma, features_rms, features_spectral_centroid, features_spectral_bandwidth, features_spectral_rolloff, features_zero_crossing_rate, features_mfcc)))\n",
        "\n",
        "    feature_names = [f'chroma_{i}' for i in range(features_chroma.shape[0])] + ['rms', 'spectral_centroid', 'spectral_bandwidth', 'spectral_rolloff', 'zero_crossing_rate'] + [f'mfcc_{i}' for i in range(features_mfcc.shape[0])]\n",
        "\n",
        "    df = pd.DataFrame(features_list, columns=feature_names)\n",
        "    df['LABEL'] = label\n",
        "    return df\n"
      ]
    },
    {
      "cell_type": "code",
      "execution_count": null,
      "metadata": {
        "id": "sM584Ns75Bfp"
      },
      "outputs": [],
      "source": [
        "def saveAudioToCSV(file_name, data_df, label):\n",
        "  file_name_2, _ = os.path.splitext(os.path.basename(file_name))\n",
        "\n",
        "  new_file_name = file_name_2 + '.csv'\n",
        "\n",
        "  csv_filename = \"/content/drive/MyDrive/Sinais e Sistemas/Dados/CSV/\" + label + os.path.basename(new_file_name)\n",
        "  data_df.to_csv(csv_filename, index=False)\n",
        "\n",
        "  # print(f\"Arquivo CSV salvo em: {csv_filename}\")"
      ]
    },
    {
      "cell_type": "code",
      "execution_count": null,
      "metadata": {
        "id": "MzIU6A74uP1N"
      },
      "outputs": [],
      "source": [
        "# arquivos_real = listar_arquivos(real_audio_dir)\n",
        "\n",
        "# audio_features = []\n",
        "\n",
        "# for filename in arquivos_real:\n",
        "#     if filename.endswith(\".wav\"):\n",
        "#         features_df = process_audio(\"REAL\", filename)\n",
        "#         saveAudioToCSV(filename, features_df, \"REAL-1S/\")\n",
        "#         audio_features.append(features_df.values.tolist())"
      ]
    },
    {
      "cell_type": "code",
      "execution_count": null,
      "metadata": {
        "id": "cDQt80lQwPuW"
      },
      "outputs": [],
      "source": [
        "# arquivos_fake = listar_arquivos(fake_audio_dir)\n",
        "\n",
        "# oradores = [\"biden\", \"obama\", \"musk\", \"taylor\", \"margot\", \"trump\", \"ryan\", \"linus\"]\n",
        "\n",
        "# for filename in arquivos_fake:\n",
        "#     if filename.endswith(\".wav\"):\n",
        "#         features_df = process_audio(\"FAKE\", filename)\n",
        "#         saveAudioToCSV(filename, features_df, \"FAKE-1S/\")"
      ]
    },
    {
      "cell_type": "code",
      "execution_count": null,
      "metadata": {
        "id": "PgcMuGMGS2TU"
      },
      "outputs": [],
      "source": [
        "# arquivos_samples = listar_arquivos(samples_audio_dir)\n",
        "\n",
        "# for filename in arquivos_samples:\n",
        "#       features_df = process_audio(\"REAL\", filename)\n",
        "#       saveAudioToCSV(filename, features_df, \"SAMPLES/\")"
      ]
    },
    {
      "cell_type": "markdown",
      "metadata": {
        "id": "LWlIZ7R9OCDQ"
      },
      "source": [
        "Aqui estamos concatenando os arquivos CSV salvos com as features de 24 audios, dois falsos selecionados para cada real, mas os dados reais são concatenados duas vezes, ou seja, os dados desses estão duplicados para balancear o dataset que iremos usar no treinamento\n"
      ]
    },
    {
      "cell_type": "markdown",
      "metadata": {
        "id": "nuG4fY04Oxim"
      },
      "source": [
        "# BREVE EXPLORAÇÃO DOS DADOS"
      ]
    },
    {
      "cell_type": "markdown",
      "metadata": {
        "id": "gETlZKTdPUnY"
      },
      "source": [
        "Nesta seção, realizamos uma breve análise inicial do conjunto de dados para obter insights valiosos sobre as características que coletamos.\n"
      ]
    },
    {
      "cell_type": "code",
      "execution_count": null,
      "metadata": {
        "id": "R7rnN3oUObYL"
      },
      "outputs": [],
      "source": [
        "lista_dfs = []\n",
        "\n",
        "for file_path in csv_reais + csv_fakes:\n",
        "    df_atual = pd.read_csv(file_path)\n",
        "    lista_dfs.append(df_atual)\n",
        "\n",
        "MD = pd.concat(lista_dfs, ignore_index=True)"
      ]
    },
    {
      "cell_type": "code",
      "execution_count": null,
      "metadata": {
        "colab": {
          "base_uri": "https://localhost:8080/",
          "height": 256
        },
        "id": "l1kkyY_bHMDI",
        "outputId": "063dce91-4f10-4fc5-d726-28aa860cc10d"
      },
      "outputs": [
        {
          "data": {
            "application/vnd.google.colaboratory.intrinsic+json": {
              "type": "dataframe",
              "variable_name": "MD"
            },
            "text/html": [
              "\n",
              "  <div id=\"df-2a392d4e-3a19-4d73-b0e0-6233e2137de2\" class=\"colab-df-container\">\n",
              "    <div>\n",
              "<style scoped>\n",
              "    .dataframe tbody tr th:only-of-type {\n",
              "        vertical-align: middle;\n",
              "    }\n",
              "\n",
              "    .dataframe tbody tr th {\n",
              "        vertical-align: top;\n",
              "    }\n",
              "\n",
              "    .dataframe thead th {\n",
              "        text-align: right;\n",
              "    }\n",
              "</style>\n",
              "<table border=\"1\" class=\"dataframe\">\n",
              "  <thead>\n",
              "    <tr style=\"text-align: right;\">\n",
              "      <th></th>\n",
              "      <th>chroma_0</th>\n",
              "      <th>chroma_1</th>\n",
              "      <th>chroma_2</th>\n",
              "      <th>chroma_3</th>\n",
              "      <th>chroma_4</th>\n",
              "      <th>chroma_5</th>\n",
              "      <th>chroma_6</th>\n",
              "      <th>chroma_7</th>\n",
              "      <th>chroma_8</th>\n",
              "      <th>chroma_9</th>\n",
              "      <th>...</th>\n",
              "      <th>mfcc_11</th>\n",
              "      <th>mfcc_12</th>\n",
              "      <th>mfcc_13</th>\n",
              "      <th>mfcc_14</th>\n",
              "      <th>mfcc_15</th>\n",
              "      <th>mfcc_16</th>\n",
              "      <th>mfcc_17</th>\n",
              "      <th>mfcc_18</th>\n",
              "      <th>mfcc_19</th>\n",
              "      <th>LABEL</th>\n",
              "    </tr>\n",
              "  </thead>\n",
              "  <tbody>\n",
              "    <tr>\n",
              "      <th>0</th>\n",
              "      <td>0.462550</td>\n",
              "      <td>0.476350</td>\n",
              "      <td>0.367379</td>\n",
              "      <td>0.300612</td>\n",
              "      <td>0.286504</td>\n",
              "      <td>0.315356</td>\n",
              "      <td>0.357802</td>\n",
              "      <td>0.383803</td>\n",
              "      <td>0.441547</td>\n",
              "      <td>0.470591</td>\n",
              "      <td>...</td>\n",
              "      <td>-5.326230</td>\n",
              "      <td>-0.652080</td>\n",
              "      <td>3.384879</td>\n",
              "      <td>0.993692</td>\n",
              "      <td>0.000448</td>\n",
              "      <td>-1.385820</td>\n",
              "      <td>-1.604775</td>\n",
              "      <td>3.800517</td>\n",
              "      <td>2.887164</td>\n",
              "      <td>REAL</td>\n",
              "    </tr>\n",
              "    <tr>\n",
              "      <th>1</th>\n",
              "      <td>0.414589</td>\n",
              "      <td>0.467415</td>\n",
              "      <td>0.352154</td>\n",
              "      <td>0.269397</td>\n",
              "      <td>0.254876</td>\n",
              "      <td>0.271442</td>\n",
              "      <td>0.314318</td>\n",
              "      <td>0.395164</td>\n",
              "      <td>0.442372</td>\n",
              "      <td>0.456549</td>\n",
              "      <td>...</td>\n",
              "      <td>-5.034820</td>\n",
              "      <td>-2.168434</td>\n",
              "      <td>2.197922</td>\n",
              "      <td>2.400308</td>\n",
              "      <td>0.690664</td>\n",
              "      <td>-2.675290</td>\n",
              "      <td>-2.454260</td>\n",
              "      <td>4.109017</td>\n",
              "      <td>2.796432</td>\n",
              "      <td>REAL</td>\n",
              "    </tr>\n",
              "    <tr>\n",
              "      <th>2</th>\n",
              "      <td>0.416112</td>\n",
              "      <td>0.457239</td>\n",
              "      <td>0.372713</td>\n",
              "      <td>0.315628</td>\n",
              "      <td>0.284810</td>\n",
              "      <td>0.324426</td>\n",
              "      <td>0.376348</td>\n",
              "      <td>0.421338</td>\n",
              "      <td>0.450550</td>\n",
              "      <td>0.444428</td>\n",
              "      <td>...</td>\n",
              "      <td>-4.380602</td>\n",
              "      <td>-2.364060</td>\n",
              "      <td>1.386001</td>\n",
              "      <td>0.474963</td>\n",
              "      <td>-0.437341</td>\n",
              "      <td>-1.835556</td>\n",
              "      <td>-1.727377</td>\n",
              "      <td>3.139575</td>\n",
              "      <td>1.867708</td>\n",
              "      <td>REAL</td>\n",
              "    </tr>\n",
              "    <tr>\n",
              "      <th>3</th>\n",
              "      <td>0.395807</td>\n",
              "      <td>0.403927</td>\n",
              "      <td>0.357028</td>\n",
              "      <td>0.319241</td>\n",
              "      <td>0.314043</td>\n",
              "      <td>0.351454</td>\n",
              "      <td>0.369375</td>\n",
              "      <td>0.403397</td>\n",
              "      <td>0.437933</td>\n",
              "      <td>0.462974</td>\n",
              "      <td>...</td>\n",
              "      <td>-2.497735</td>\n",
              "      <td>-3.380619</td>\n",
              "      <td>-1.398172</td>\n",
              "      <td>1.163829</td>\n",
              "      <td>1.940514</td>\n",
              "      <td>-1.849729</td>\n",
              "      <td>-2.970225</td>\n",
              "      <td>2.994174</td>\n",
              "      <td>2.483652</td>\n",
              "      <td>REAL</td>\n",
              "    </tr>\n",
              "    <tr>\n",
              "      <th>4</th>\n",
              "      <td>0.401963</td>\n",
              "      <td>0.416304</td>\n",
              "      <td>0.341273</td>\n",
              "      <td>0.261865</td>\n",
              "      <td>0.287675</td>\n",
              "      <td>0.328192</td>\n",
              "      <td>0.361301</td>\n",
              "      <td>0.418324</td>\n",
              "      <td>0.466782</td>\n",
              "      <td>0.459194</td>\n",
              "      <td>...</td>\n",
              "      <td>-4.558692</td>\n",
              "      <td>-3.196103</td>\n",
              "      <td>0.857982</td>\n",
              "      <td>0.742684</td>\n",
              "      <td>0.618515</td>\n",
              "      <td>-2.109802</td>\n",
              "      <td>-2.881319</td>\n",
              "      <td>3.958530</td>\n",
              "      <td>2.859517</td>\n",
              "      <td>REAL</td>\n",
              "    </tr>\n",
              "  </tbody>\n",
              "</table>\n",
              "<p>5 rows × 38 columns</p>\n",
              "</div>\n",
              "    <div class=\"colab-df-buttons\">\n",
              "\n",
              "  <div class=\"colab-df-container\">\n",
              "    <button class=\"colab-df-convert\" onclick=\"convertToInteractive('df-2a392d4e-3a19-4d73-b0e0-6233e2137de2')\"\n",
              "            title=\"Convert this dataframe to an interactive table.\"\n",
              "            style=\"display:none;\">\n",
              "\n",
              "  <svg xmlns=\"http://www.w3.org/2000/svg\" height=\"24px\" viewBox=\"0 -960 960 960\">\n",
              "    <path d=\"M120-120v-720h720v720H120Zm60-500h600v-160H180v160Zm220 220h160v-160H400v160Zm0 220h160v-160H400v160ZM180-400h160v-160H180v160Zm440 0h160v-160H620v160ZM180-180h160v-160H180v160Zm440 0h160v-160H620v160Z\"/>\n",
              "  </svg>\n",
              "    </button>\n",
              "\n",
              "  <style>\n",
              "    .colab-df-container {\n",
              "      display:flex;\n",
              "      gap: 12px;\n",
              "    }\n",
              "\n",
              "    .colab-df-convert {\n",
              "      background-color: #E8F0FE;\n",
              "      border: none;\n",
              "      border-radius: 50%;\n",
              "      cursor: pointer;\n",
              "      display: none;\n",
              "      fill: #1967D2;\n",
              "      height: 32px;\n",
              "      padding: 0 0 0 0;\n",
              "      width: 32px;\n",
              "    }\n",
              "\n",
              "    .colab-df-convert:hover {\n",
              "      background-color: #E2EBFA;\n",
              "      box-shadow: 0px 1px 2px rgba(60, 64, 67, 0.3), 0px 1px 3px 1px rgba(60, 64, 67, 0.15);\n",
              "      fill: #174EA6;\n",
              "    }\n",
              "\n",
              "    .colab-df-buttons div {\n",
              "      margin-bottom: 4px;\n",
              "    }\n",
              "\n",
              "    [theme=dark] .colab-df-convert {\n",
              "      background-color: #3B4455;\n",
              "      fill: #D2E3FC;\n",
              "    }\n",
              "\n",
              "    [theme=dark] .colab-df-convert:hover {\n",
              "      background-color: #434B5C;\n",
              "      box-shadow: 0px 1px 3px 1px rgba(0, 0, 0, 0.15);\n",
              "      filter: drop-shadow(0px 1px 2px rgba(0, 0, 0, 0.3));\n",
              "      fill: #FFFFFF;\n",
              "    }\n",
              "  </style>\n",
              "\n",
              "    <script>\n",
              "      const buttonEl =\n",
              "        document.querySelector('#df-2a392d4e-3a19-4d73-b0e0-6233e2137de2 button.colab-df-convert');\n",
              "      buttonEl.style.display =\n",
              "        google.colab.kernel.accessAllowed ? 'block' : 'none';\n",
              "\n",
              "      async function convertToInteractive(key) {\n",
              "        const element = document.querySelector('#df-2a392d4e-3a19-4d73-b0e0-6233e2137de2');\n",
              "        const dataTable =\n",
              "          await google.colab.kernel.invokeFunction('convertToInteractive',\n",
              "                                                    [key], {});\n",
              "        if (!dataTable) return;\n",
              "\n",
              "        const docLinkHtml = 'Like what you see? Visit the ' +\n",
              "          '<a target=\"_blank\" href=https://colab.research.google.com/notebooks/data_table.ipynb>data table notebook</a>'\n",
              "          + ' to learn more about interactive tables.';\n",
              "        element.innerHTML = '';\n",
              "        dataTable['output_type'] = 'display_data';\n",
              "        await google.colab.output.renderOutput(dataTable, element);\n",
              "        const docLink = document.createElement('div');\n",
              "        docLink.innerHTML = docLinkHtml;\n",
              "        element.appendChild(docLink);\n",
              "      }\n",
              "    </script>\n",
              "  </div>\n",
              "\n",
              "\n",
              "<div id=\"df-40cb3b0a-64f3-44ee-99ab-0857f57767ac\">\n",
              "  <button class=\"colab-df-quickchart\" onclick=\"quickchart('df-40cb3b0a-64f3-44ee-99ab-0857f57767ac')\"\n",
              "            title=\"Suggest charts\"\n",
              "            style=\"display:none;\">\n",
              "\n",
              "<svg xmlns=\"http://www.w3.org/2000/svg\" height=\"24px\"viewBox=\"0 0 24 24\"\n",
              "     width=\"24px\">\n",
              "    <g>\n",
              "        <path d=\"M19 3H5c-1.1 0-2 .9-2 2v14c0 1.1.9 2 2 2h14c1.1 0 2-.9 2-2V5c0-1.1-.9-2-2-2zM9 17H7v-7h2v7zm4 0h-2V7h2v10zm4 0h-2v-4h2v4z\"/>\n",
              "    </g>\n",
              "</svg>\n",
              "  </button>\n",
              "\n",
              "<style>\n",
              "  .colab-df-quickchart {\n",
              "      --bg-color: #E8F0FE;\n",
              "      --fill-color: #1967D2;\n",
              "      --hover-bg-color: #E2EBFA;\n",
              "      --hover-fill-color: #174EA6;\n",
              "      --disabled-fill-color: #AAA;\n",
              "      --disabled-bg-color: #DDD;\n",
              "  }\n",
              "\n",
              "  [theme=dark] .colab-df-quickchart {\n",
              "      --bg-color: #3B4455;\n",
              "      --fill-color: #D2E3FC;\n",
              "      --hover-bg-color: #434B5C;\n",
              "      --hover-fill-color: #FFFFFF;\n",
              "      --disabled-bg-color: #3B4455;\n",
              "      --disabled-fill-color: #666;\n",
              "  }\n",
              "\n",
              "  .colab-df-quickchart {\n",
              "    background-color: var(--bg-color);\n",
              "    border: none;\n",
              "    border-radius: 50%;\n",
              "    cursor: pointer;\n",
              "    display: none;\n",
              "    fill: var(--fill-color);\n",
              "    height: 32px;\n",
              "    padding: 0;\n",
              "    width: 32px;\n",
              "  }\n",
              "\n",
              "  .colab-df-quickchart:hover {\n",
              "    background-color: var(--hover-bg-color);\n",
              "    box-shadow: 0 1px 2px rgba(60, 64, 67, 0.3), 0 1px 3px 1px rgba(60, 64, 67, 0.15);\n",
              "    fill: var(--button-hover-fill-color);\n",
              "  }\n",
              "\n",
              "  .colab-df-quickchart-complete:disabled,\n",
              "  .colab-df-quickchart-complete:disabled:hover {\n",
              "    background-color: var(--disabled-bg-color);\n",
              "    fill: var(--disabled-fill-color);\n",
              "    box-shadow: none;\n",
              "  }\n",
              "\n",
              "  .colab-df-spinner {\n",
              "    border: 2px solid var(--fill-color);\n",
              "    border-color: transparent;\n",
              "    border-bottom-color: var(--fill-color);\n",
              "    animation:\n",
              "      spin 1s steps(1) infinite;\n",
              "  }\n",
              "\n",
              "  @keyframes spin {\n",
              "    0% {\n",
              "      border-color: transparent;\n",
              "      border-bottom-color: var(--fill-color);\n",
              "      border-left-color: var(--fill-color);\n",
              "    }\n",
              "    20% {\n",
              "      border-color: transparent;\n",
              "      border-left-color: var(--fill-color);\n",
              "      border-top-color: var(--fill-color);\n",
              "    }\n",
              "    30% {\n",
              "      border-color: transparent;\n",
              "      border-left-color: var(--fill-color);\n",
              "      border-top-color: var(--fill-color);\n",
              "      border-right-color: var(--fill-color);\n",
              "    }\n",
              "    40% {\n",
              "      border-color: transparent;\n",
              "      border-right-color: var(--fill-color);\n",
              "      border-top-color: var(--fill-color);\n",
              "    }\n",
              "    60% {\n",
              "      border-color: transparent;\n",
              "      border-right-color: var(--fill-color);\n",
              "    }\n",
              "    80% {\n",
              "      border-color: transparent;\n",
              "      border-right-color: var(--fill-color);\n",
              "      border-bottom-color: var(--fill-color);\n",
              "    }\n",
              "    90% {\n",
              "      border-color: transparent;\n",
              "      border-bottom-color: var(--fill-color);\n",
              "    }\n",
              "  }\n",
              "</style>\n",
              "\n",
              "  <script>\n",
              "    async function quickchart(key) {\n",
              "      const quickchartButtonEl =\n",
              "        document.querySelector('#' + key + ' button');\n",
              "      quickchartButtonEl.disabled = true;  // To prevent multiple clicks.\n",
              "      quickchartButtonEl.classList.add('colab-df-spinner');\n",
              "      try {\n",
              "        const charts = await google.colab.kernel.invokeFunction(\n",
              "            'suggestCharts', [key], {});\n",
              "      } catch (error) {\n",
              "        console.error('Error during call to suggestCharts:', error);\n",
              "      }\n",
              "      quickchartButtonEl.classList.remove('colab-df-spinner');\n",
              "      quickchartButtonEl.classList.add('colab-df-quickchart-complete');\n",
              "    }\n",
              "    (() => {\n",
              "      let quickchartButtonEl =\n",
              "        document.querySelector('#df-40cb3b0a-64f3-44ee-99ab-0857f57767ac button');\n",
              "      quickchartButtonEl.style.display =\n",
              "        google.colab.kernel.accessAllowed ? 'block' : 'none';\n",
              "    })();\n",
              "  </script>\n",
              "</div>\n",
              "    </div>\n",
              "  </div>\n"
            ],
            "text/plain": [
              "   chroma_0  chroma_1  chroma_2  chroma_3  chroma_4  chroma_5  chroma_6  \\\n",
              "0  0.462550  0.476350  0.367379  0.300612  0.286504  0.315356  0.357802   \n",
              "1  0.414589  0.467415  0.352154  0.269397  0.254876  0.271442  0.314318   \n",
              "2  0.416112  0.457239  0.372713  0.315628  0.284810  0.324426  0.376348   \n",
              "3  0.395807  0.403927  0.357028  0.319241  0.314043  0.351454  0.369375   \n",
              "4  0.401963  0.416304  0.341273  0.261865  0.287675  0.328192  0.361301   \n",
              "\n",
              "   chroma_7  chroma_8  chroma_9  ...   mfcc_11   mfcc_12   mfcc_13   mfcc_14  \\\n",
              "0  0.383803  0.441547  0.470591  ... -5.326230 -0.652080  3.384879  0.993692   \n",
              "1  0.395164  0.442372  0.456549  ... -5.034820 -2.168434  2.197922  2.400308   \n",
              "2  0.421338  0.450550  0.444428  ... -4.380602 -2.364060  1.386001  0.474963   \n",
              "3  0.403397  0.437933  0.462974  ... -2.497735 -3.380619 -1.398172  1.163829   \n",
              "4  0.418324  0.466782  0.459194  ... -4.558692 -3.196103  0.857982  0.742684   \n",
              "\n",
              "    mfcc_15   mfcc_16   mfcc_17   mfcc_18   mfcc_19  LABEL  \n",
              "0  0.000448 -1.385820 -1.604775  3.800517  2.887164   REAL  \n",
              "1  0.690664 -2.675290 -2.454260  4.109017  2.796432   REAL  \n",
              "2 -0.437341 -1.835556 -1.727377  3.139575  1.867708   REAL  \n",
              "3  1.940514 -1.849729 -2.970225  2.994174  2.483652   REAL  \n",
              "4  0.618515 -2.109802 -2.881319  3.958530  2.859517   REAL  \n",
              "\n",
              "[5 rows x 38 columns]"
            ]
          },
          "execution_count": 52,
          "metadata": {},
          "output_type": "execute_result"
        }
      ],
      "source": [
        "MD.head()"
      ]
    },
    {
      "cell_type": "markdown",
      "metadata": {
        "id": "PbeUmSYhQ6rt"
      },
      "source": [
        "## Descrição Estatística para Dados REAIS e FAKES"
      ]
    },
    {
      "cell_type": "code",
      "execution_count": null,
      "metadata": {
        "colab": {
          "base_uri": "https://localhost:8080/",
          "height": 350
        },
        "id": "QbaHC7SnJO11",
        "outputId": "bd8bcb96-0dee-43e8-fbb1-c066a47c4498"
      },
      "outputs": [
        {
          "data": {
            "application/vnd.google.colaboratory.intrinsic+json": {
              "type": "dataframe"
            },
            "text/html": [
              "\n",
              "  <div id=\"df-ce9aacd1-1e85-4b2f-b231-a05b5fb763f6\" class=\"colab-df-container\">\n",
              "    <div>\n",
              "<style scoped>\n",
              "    .dataframe tbody tr th:only-of-type {\n",
              "        vertical-align: middle;\n",
              "    }\n",
              "\n",
              "    .dataframe tbody tr th {\n",
              "        vertical-align: top;\n",
              "    }\n",
              "\n",
              "    .dataframe thead th {\n",
              "        text-align: right;\n",
              "    }\n",
              "</style>\n",
              "<table border=\"1\" class=\"dataframe\">\n",
              "  <thead>\n",
              "    <tr style=\"text-align: right;\">\n",
              "      <th></th>\n",
              "      <th>chroma_0</th>\n",
              "      <th>chroma_1</th>\n",
              "      <th>chroma_2</th>\n",
              "      <th>chroma_3</th>\n",
              "      <th>chroma_4</th>\n",
              "      <th>chroma_5</th>\n",
              "      <th>chroma_6</th>\n",
              "      <th>chroma_7</th>\n",
              "      <th>chroma_8</th>\n",
              "      <th>chroma_9</th>\n",
              "      <th>...</th>\n",
              "      <th>mfcc_10</th>\n",
              "      <th>mfcc_11</th>\n",
              "      <th>mfcc_12</th>\n",
              "      <th>mfcc_13</th>\n",
              "      <th>mfcc_14</th>\n",
              "      <th>mfcc_15</th>\n",
              "      <th>mfcc_16</th>\n",
              "      <th>mfcc_17</th>\n",
              "      <th>mfcc_18</th>\n",
              "      <th>mfcc_19</th>\n",
              "    </tr>\n",
              "  </thead>\n",
              "  <tbody>\n",
              "    <tr>\n",
              "      <th>count</th>\n",
              "      <td>185.000000</td>\n",
              "      <td>185.000000</td>\n",
              "      <td>185.000000</td>\n",
              "      <td>185.000000</td>\n",
              "      <td>185.000000</td>\n",
              "      <td>185.000000</td>\n",
              "      <td>185.000000</td>\n",
              "      <td>185.000000</td>\n",
              "      <td>185.000000</td>\n",
              "      <td>185.000000</td>\n",
              "      <td>...</td>\n",
              "      <td>185.000000</td>\n",
              "      <td>185.000000</td>\n",
              "      <td>185.000000</td>\n",
              "      <td>185.000000</td>\n",
              "      <td>185.000000</td>\n",
              "      <td>185.000000</td>\n",
              "      <td>185.000000</td>\n",
              "      <td>185.000000</td>\n",
              "      <td>185.000000</td>\n",
              "      <td>185.000000</td>\n",
              "    </tr>\n",
              "    <tr>\n",
              "      <th>mean</th>\n",
              "      <td>0.419098</td>\n",
              "      <td>0.413160</td>\n",
              "      <td>0.406453</td>\n",
              "      <td>0.403603</td>\n",
              "      <td>0.397633</td>\n",
              "      <td>0.401651</td>\n",
              "      <td>0.409340</td>\n",
              "      <td>0.421128</td>\n",
              "      <td>0.434050</td>\n",
              "      <td>0.428638</td>\n",
              "      <td>...</td>\n",
              "      <td>-3.452428</td>\n",
              "      <td>-5.008314</td>\n",
              "      <td>-2.183210</td>\n",
              "      <td>-2.478346</td>\n",
              "      <td>-2.725417</td>\n",
              "      <td>-2.803250</td>\n",
              "      <td>-2.963639</td>\n",
              "      <td>-4.525737</td>\n",
              "      <td>-2.102111</td>\n",
              "      <td>-4.019907</td>\n",
              "    </tr>\n",
              "    <tr>\n",
              "      <th>std</th>\n",
              "      <td>0.061866</td>\n",
              "      <td>0.053072</td>\n",
              "      <td>0.056889</td>\n",
              "      <td>0.078740</td>\n",
              "      <td>0.086363</td>\n",
              "      <td>0.077015</td>\n",
              "      <td>0.060723</td>\n",
              "      <td>0.055654</td>\n",
              "      <td>0.056939</td>\n",
              "      <td>0.063782</td>\n",
              "      <td>...</td>\n",
              "      <td>5.628128</td>\n",
              "      <td>5.884228</td>\n",
              "      <td>3.142194</td>\n",
              "      <td>3.510183</td>\n",
              "      <td>4.150308</td>\n",
              "      <td>4.518160</td>\n",
              "      <td>3.994933</td>\n",
              "      <td>3.965610</td>\n",
              "      <td>3.701944</td>\n",
              "      <td>5.219162</td>\n",
              "    </tr>\n",
              "    <tr>\n",
              "      <th>min</th>\n",
              "      <td>0.287153</td>\n",
              "      <td>0.283436</td>\n",
              "      <td>0.258978</td>\n",
              "      <td>0.219760</td>\n",
              "      <td>0.216244</td>\n",
              "      <td>0.227414</td>\n",
              "      <td>0.276974</td>\n",
              "      <td>0.230277</td>\n",
              "      <td>0.246673</td>\n",
              "      <td>0.278525</td>\n",
              "      <td>...</td>\n",
              "      <td>-17.310303</td>\n",
              "      <td>-19.619354</td>\n",
              "      <td>-8.878820</td>\n",
              "      <td>-10.126081</td>\n",
              "      <td>-12.455880</td>\n",
              "      <td>-13.774290</td>\n",
              "      <td>-12.249346</td>\n",
              "      <td>-14.723181</td>\n",
              "      <td>-14.737139</td>\n",
              "      <td>-15.706419</td>\n",
              "    </tr>\n",
              "    <tr>\n",
              "      <th>25%</th>\n",
              "      <td>0.371606</td>\n",
              "      <td>0.380660</td>\n",
              "      <td>0.361515</td>\n",
              "      <td>0.339296</td>\n",
              "      <td>0.319315</td>\n",
              "      <td>0.338871</td>\n",
              "      <td>0.365045</td>\n",
              "      <td>0.383803</td>\n",
              "      <td>0.395519</td>\n",
              "      <td>0.378821</td>\n",
              "      <td>...</td>\n",
              "      <td>-6.992114</td>\n",
              "      <td>-7.489316</td>\n",
              "      <td>-4.129058</td>\n",
              "      <td>-4.844256</td>\n",
              "      <td>-5.013104</td>\n",
              "      <td>-3.683417</td>\n",
              "      <td>-6.488280</td>\n",
              "      <td>-6.506629</td>\n",
              "      <td>-4.854556</td>\n",
              "      <td>-5.789594</td>\n",
              "    </tr>\n",
              "    <tr>\n",
              "      <th>50%</th>\n",
              "      <td>0.413991</td>\n",
              "      <td>0.413297</td>\n",
              "      <td>0.410606</td>\n",
              "      <td>0.417490</td>\n",
              "      <td>0.401886</td>\n",
              "      <td>0.395581</td>\n",
              "      <td>0.401532</td>\n",
              "      <td>0.423278</td>\n",
              "      <td>0.434950</td>\n",
              "      <td>0.424667</td>\n",
              "      <td>...</td>\n",
              "      <td>-2.259493</td>\n",
              "      <td>-4.978516</td>\n",
              "      <td>-2.037210</td>\n",
              "      <td>-2.423945</td>\n",
              "      <td>-3.044663</td>\n",
              "      <td>-1.446748</td>\n",
              "      <td>-3.154600</td>\n",
              "      <td>-4.041308</td>\n",
              "      <td>-2.687385</td>\n",
              "      <td>-3.467384</td>\n",
              "    </tr>\n",
              "    <tr>\n",
              "      <th>75%</th>\n",
              "      <td>0.462520</td>\n",
              "      <td>0.451048</td>\n",
              "      <td>0.445151</td>\n",
              "      <td>0.471722</td>\n",
              "      <td>0.471766</td>\n",
              "      <td>0.470336</td>\n",
              "      <td>0.455383</td>\n",
              "      <td>0.461167</td>\n",
              "      <td>0.475627</td>\n",
              "      <td>0.480238</td>\n",
              "      <td>...</td>\n",
              "      <td>0.921575</td>\n",
              "      <td>-2.438148</td>\n",
              "      <td>-0.164368</td>\n",
              "      <td>0.118665</td>\n",
              "      <td>0.613029</td>\n",
              "      <td>0.429895</td>\n",
              "      <td>0.312835</td>\n",
              "      <td>-1.864726</td>\n",
              "      <td>1.254423</td>\n",
              "      <td>-0.374640</td>\n",
              "    </tr>\n",
              "    <tr>\n",
              "      <th>max</th>\n",
              "      <td>0.565600</td>\n",
              "      <td>0.538682</td>\n",
              "      <td>0.546189</td>\n",
              "      <td>0.544156</td>\n",
              "      <td>0.574414</td>\n",
              "      <td>0.605456</td>\n",
              "      <td>0.553439</td>\n",
              "      <td>0.554845</td>\n",
              "      <td>0.570875</td>\n",
              "      <td>0.563623</td>\n",
              "      <td>...</td>\n",
              "      <td>7.296120</td>\n",
              "      <td>6.926667</td>\n",
              "      <td>4.428043</td>\n",
              "      <td>4.775608</td>\n",
              "      <td>4.444420</td>\n",
              "      <td>4.715726</td>\n",
              "      <td>5.185005</td>\n",
              "      <td>2.980438</td>\n",
              "      <td>4.879610</td>\n",
              "      <td>4.370759</td>\n",
              "    </tr>\n",
              "  </tbody>\n",
              "</table>\n",
              "<p>8 rows × 37 columns</p>\n",
              "</div>\n",
              "    <div class=\"colab-df-buttons\">\n",
              "\n",
              "  <div class=\"colab-df-container\">\n",
              "    <button class=\"colab-df-convert\" onclick=\"convertToInteractive('df-ce9aacd1-1e85-4b2f-b231-a05b5fb763f6')\"\n",
              "            title=\"Convert this dataframe to an interactive table.\"\n",
              "            style=\"display:none;\">\n",
              "\n",
              "  <svg xmlns=\"http://www.w3.org/2000/svg\" height=\"24px\" viewBox=\"0 -960 960 960\">\n",
              "    <path d=\"M120-120v-720h720v720H120Zm60-500h600v-160H180v160Zm220 220h160v-160H400v160Zm0 220h160v-160H400v160ZM180-400h160v-160H180v160Zm440 0h160v-160H620v160ZM180-180h160v-160H180v160Zm440 0h160v-160H620v160Z\"/>\n",
              "  </svg>\n",
              "    </button>\n",
              "\n",
              "  <style>\n",
              "    .colab-df-container {\n",
              "      display:flex;\n",
              "      gap: 12px;\n",
              "    }\n",
              "\n",
              "    .colab-df-convert {\n",
              "      background-color: #E8F0FE;\n",
              "      border: none;\n",
              "      border-radius: 50%;\n",
              "      cursor: pointer;\n",
              "      display: none;\n",
              "      fill: #1967D2;\n",
              "      height: 32px;\n",
              "      padding: 0 0 0 0;\n",
              "      width: 32px;\n",
              "    }\n",
              "\n",
              "    .colab-df-convert:hover {\n",
              "      background-color: #E2EBFA;\n",
              "      box-shadow: 0px 1px 2px rgba(60, 64, 67, 0.3), 0px 1px 3px 1px rgba(60, 64, 67, 0.15);\n",
              "      fill: #174EA6;\n",
              "    }\n",
              "\n",
              "    .colab-df-buttons div {\n",
              "      margin-bottom: 4px;\n",
              "    }\n",
              "\n",
              "    [theme=dark] .colab-df-convert {\n",
              "      background-color: #3B4455;\n",
              "      fill: #D2E3FC;\n",
              "    }\n",
              "\n",
              "    [theme=dark] .colab-df-convert:hover {\n",
              "      background-color: #434B5C;\n",
              "      box-shadow: 0px 1px 3px 1px rgba(0, 0, 0, 0.15);\n",
              "      filter: drop-shadow(0px 1px 2px rgba(0, 0, 0, 0.3));\n",
              "      fill: #FFFFFF;\n",
              "    }\n",
              "  </style>\n",
              "\n",
              "    <script>\n",
              "      const buttonEl =\n",
              "        document.querySelector('#df-ce9aacd1-1e85-4b2f-b231-a05b5fb763f6 button.colab-df-convert');\n",
              "      buttonEl.style.display =\n",
              "        google.colab.kernel.accessAllowed ? 'block' : 'none';\n",
              "\n",
              "      async function convertToInteractive(key) {\n",
              "        const element = document.querySelector('#df-ce9aacd1-1e85-4b2f-b231-a05b5fb763f6');\n",
              "        const dataTable =\n",
              "          await google.colab.kernel.invokeFunction('convertToInteractive',\n",
              "                                                    [key], {});\n",
              "        if (!dataTable) return;\n",
              "\n",
              "        const docLinkHtml = 'Like what you see? Visit the ' +\n",
              "          '<a target=\"_blank\" href=https://colab.research.google.com/notebooks/data_table.ipynb>data table notebook</a>'\n",
              "          + ' to learn more about interactive tables.';\n",
              "        element.innerHTML = '';\n",
              "        dataTable['output_type'] = 'display_data';\n",
              "        await google.colab.output.renderOutput(dataTable, element);\n",
              "        const docLink = document.createElement('div');\n",
              "        docLink.innerHTML = docLinkHtml;\n",
              "        element.appendChild(docLink);\n",
              "      }\n",
              "    </script>\n",
              "  </div>\n",
              "\n",
              "\n",
              "<div id=\"df-dee946ce-ef65-4892-a9f0-cb7005cd54ad\">\n",
              "  <button class=\"colab-df-quickchart\" onclick=\"quickchart('df-dee946ce-ef65-4892-a9f0-cb7005cd54ad')\"\n",
              "            title=\"Suggest charts\"\n",
              "            style=\"display:none;\">\n",
              "\n",
              "<svg xmlns=\"http://www.w3.org/2000/svg\" height=\"24px\"viewBox=\"0 0 24 24\"\n",
              "     width=\"24px\">\n",
              "    <g>\n",
              "        <path d=\"M19 3H5c-1.1 0-2 .9-2 2v14c0 1.1.9 2 2 2h14c1.1 0 2-.9 2-2V5c0-1.1-.9-2-2-2zM9 17H7v-7h2v7zm4 0h-2V7h2v10zm4 0h-2v-4h2v4z\"/>\n",
              "    </g>\n",
              "</svg>\n",
              "  </button>\n",
              "\n",
              "<style>\n",
              "  .colab-df-quickchart {\n",
              "      --bg-color: #E8F0FE;\n",
              "      --fill-color: #1967D2;\n",
              "      --hover-bg-color: #E2EBFA;\n",
              "      --hover-fill-color: #174EA6;\n",
              "      --disabled-fill-color: #AAA;\n",
              "      --disabled-bg-color: #DDD;\n",
              "  }\n",
              "\n",
              "  [theme=dark] .colab-df-quickchart {\n",
              "      --bg-color: #3B4455;\n",
              "      --fill-color: #D2E3FC;\n",
              "      --hover-bg-color: #434B5C;\n",
              "      --hover-fill-color: #FFFFFF;\n",
              "      --disabled-bg-color: #3B4455;\n",
              "      --disabled-fill-color: #666;\n",
              "  }\n",
              "\n",
              "  .colab-df-quickchart {\n",
              "    background-color: var(--bg-color);\n",
              "    border: none;\n",
              "    border-radius: 50%;\n",
              "    cursor: pointer;\n",
              "    display: none;\n",
              "    fill: var(--fill-color);\n",
              "    height: 32px;\n",
              "    padding: 0;\n",
              "    width: 32px;\n",
              "  }\n",
              "\n",
              "  .colab-df-quickchart:hover {\n",
              "    background-color: var(--hover-bg-color);\n",
              "    box-shadow: 0 1px 2px rgba(60, 64, 67, 0.3), 0 1px 3px 1px rgba(60, 64, 67, 0.15);\n",
              "    fill: var(--button-hover-fill-color);\n",
              "  }\n",
              "\n",
              "  .colab-df-quickchart-complete:disabled,\n",
              "  .colab-df-quickchart-complete:disabled:hover {\n",
              "    background-color: var(--disabled-bg-color);\n",
              "    fill: var(--disabled-fill-color);\n",
              "    box-shadow: none;\n",
              "  }\n",
              "\n",
              "  .colab-df-spinner {\n",
              "    border: 2px solid var(--fill-color);\n",
              "    border-color: transparent;\n",
              "    border-bottom-color: var(--fill-color);\n",
              "    animation:\n",
              "      spin 1s steps(1) infinite;\n",
              "  }\n",
              "\n",
              "  @keyframes spin {\n",
              "    0% {\n",
              "      border-color: transparent;\n",
              "      border-bottom-color: var(--fill-color);\n",
              "      border-left-color: var(--fill-color);\n",
              "    }\n",
              "    20% {\n",
              "      border-color: transparent;\n",
              "      border-left-color: var(--fill-color);\n",
              "      border-top-color: var(--fill-color);\n",
              "    }\n",
              "    30% {\n",
              "      border-color: transparent;\n",
              "      border-left-color: var(--fill-color);\n",
              "      border-top-color: var(--fill-color);\n",
              "      border-right-color: var(--fill-color);\n",
              "    }\n",
              "    40% {\n",
              "      border-color: transparent;\n",
              "      border-right-color: var(--fill-color);\n",
              "      border-top-color: var(--fill-color);\n",
              "    }\n",
              "    60% {\n",
              "      border-color: transparent;\n",
              "      border-right-color: var(--fill-color);\n",
              "    }\n",
              "    80% {\n",
              "      border-color: transparent;\n",
              "      border-right-color: var(--fill-color);\n",
              "      border-bottom-color: var(--fill-color);\n",
              "    }\n",
              "    90% {\n",
              "      border-color: transparent;\n",
              "      border-bottom-color: var(--fill-color);\n",
              "    }\n",
              "  }\n",
              "</style>\n",
              "\n",
              "  <script>\n",
              "    async function quickchart(key) {\n",
              "      const quickchartButtonEl =\n",
              "        document.querySelector('#' + key + ' button');\n",
              "      quickchartButtonEl.disabled = true;  // To prevent multiple clicks.\n",
              "      quickchartButtonEl.classList.add('colab-df-spinner');\n",
              "      try {\n",
              "        const charts = await google.colab.kernel.invokeFunction(\n",
              "            'suggestCharts', [key], {});\n",
              "      } catch (error) {\n",
              "        console.error('Error during call to suggestCharts:', error);\n",
              "      }\n",
              "      quickchartButtonEl.classList.remove('colab-df-spinner');\n",
              "      quickchartButtonEl.classList.add('colab-df-quickchart-complete');\n",
              "    }\n",
              "    (() => {\n",
              "      let quickchartButtonEl =\n",
              "        document.querySelector('#df-dee946ce-ef65-4892-a9f0-cb7005cd54ad button');\n",
              "      quickchartButtonEl.style.display =\n",
              "        google.colab.kernel.accessAllowed ? 'block' : 'none';\n",
              "    })();\n",
              "  </script>\n",
              "</div>\n",
              "    </div>\n",
              "  </div>\n"
            ],
            "text/plain": [
              "         chroma_0    chroma_1    chroma_2    chroma_3    chroma_4    chroma_5  \\\n",
              "count  185.000000  185.000000  185.000000  185.000000  185.000000  185.000000   \n",
              "mean     0.419098    0.413160    0.406453    0.403603    0.397633    0.401651   \n",
              "std      0.061866    0.053072    0.056889    0.078740    0.086363    0.077015   \n",
              "min      0.287153    0.283436    0.258978    0.219760    0.216244    0.227414   \n",
              "25%      0.371606    0.380660    0.361515    0.339296    0.319315    0.338871   \n",
              "50%      0.413991    0.413297    0.410606    0.417490    0.401886    0.395581   \n",
              "75%      0.462520    0.451048    0.445151    0.471722    0.471766    0.470336   \n",
              "max      0.565600    0.538682    0.546189    0.544156    0.574414    0.605456   \n",
              "\n",
              "         chroma_6    chroma_7    chroma_8    chroma_9  ...     mfcc_10  \\\n",
              "count  185.000000  185.000000  185.000000  185.000000  ...  185.000000   \n",
              "mean     0.409340    0.421128    0.434050    0.428638  ...   -3.452428   \n",
              "std      0.060723    0.055654    0.056939    0.063782  ...    5.628128   \n",
              "min      0.276974    0.230277    0.246673    0.278525  ...  -17.310303   \n",
              "25%      0.365045    0.383803    0.395519    0.378821  ...   -6.992114   \n",
              "50%      0.401532    0.423278    0.434950    0.424667  ...   -2.259493   \n",
              "75%      0.455383    0.461167    0.475627    0.480238  ...    0.921575   \n",
              "max      0.553439    0.554845    0.570875    0.563623  ...    7.296120   \n",
              "\n",
              "          mfcc_11     mfcc_12     mfcc_13     mfcc_14     mfcc_15     mfcc_16  \\\n",
              "count  185.000000  185.000000  185.000000  185.000000  185.000000  185.000000   \n",
              "mean    -5.008314   -2.183210   -2.478346   -2.725417   -2.803250   -2.963639   \n",
              "std      5.884228    3.142194    3.510183    4.150308    4.518160    3.994933   \n",
              "min    -19.619354   -8.878820  -10.126081  -12.455880  -13.774290  -12.249346   \n",
              "25%     -7.489316   -4.129058   -4.844256   -5.013104   -3.683417   -6.488280   \n",
              "50%     -4.978516   -2.037210   -2.423945   -3.044663   -1.446748   -3.154600   \n",
              "75%     -2.438148   -0.164368    0.118665    0.613029    0.429895    0.312835   \n",
              "max      6.926667    4.428043    4.775608    4.444420    4.715726    5.185005   \n",
              "\n",
              "          mfcc_17     mfcc_18     mfcc_19  \n",
              "count  185.000000  185.000000  185.000000  \n",
              "mean    -4.525737   -2.102111   -4.019907  \n",
              "std      3.965610    3.701944    5.219162  \n",
              "min    -14.723181  -14.737139  -15.706419  \n",
              "25%     -6.506629   -4.854556   -5.789594  \n",
              "50%     -4.041308   -2.687385   -3.467384  \n",
              "75%     -1.864726    1.254423   -0.374640  \n",
              "max      2.980438    4.879610    4.370759  \n",
              "\n",
              "[8 rows x 37 columns]"
            ]
          },
          "execution_count": 53,
          "metadata": {},
          "output_type": "execute_result"
        }
      ],
      "source": [
        "grouped_data = MD.groupby('LABEL')\n",
        "\n",
        "grouped_data.get_group('REAL').describe()"
      ]
    },
    {
      "cell_type": "code",
      "execution_count": null,
      "metadata": {
        "colab": {
          "base_uri": "https://localhost:8080/",
          "height": 350
        },
        "id": "XK5ZBWhOQJh7",
        "outputId": "c8d2db1b-b716-4e2e-d8b2-0be83f092d69"
      },
      "outputs": [
        {
          "data": {
            "application/vnd.google.colaboratory.intrinsic+json": {
              "type": "dataframe"
            },
            "text/html": [
              "\n",
              "  <div id=\"df-275cdf8e-d678-495b-9c4d-e57cfc61260a\" class=\"colab-df-container\">\n",
              "    <div>\n",
              "<style scoped>\n",
              "    .dataframe tbody tr th:only-of-type {\n",
              "        vertical-align: middle;\n",
              "    }\n",
              "\n",
              "    .dataframe tbody tr th {\n",
              "        vertical-align: top;\n",
              "    }\n",
              "\n",
              "    .dataframe thead th {\n",
              "        text-align: right;\n",
              "    }\n",
              "</style>\n",
              "<table border=\"1\" class=\"dataframe\">\n",
              "  <thead>\n",
              "    <tr style=\"text-align: right;\">\n",
              "      <th></th>\n",
              "      <th>chroma_0</th>\n",
              "      <th>chroma_1</th>\n",
              "      <th>chroma_2</th>\n",
              "      <th>chroma_3</th>\n",
              "      <th>chroma_4</th>\n",
              "      <th>chroma_5</th>\n",
              "      <th>chroma_6</th>\n",
              "      <th>chroma_7</th>\n",
              "      <th>chroma_8</th>\n",
              "      <th>chroma_9</th>\n",
              "      <th>...</th>\n",
              "      <th>mfcc_10</th>\n",
              "      <th>mfcc_11</th>\n",
              "      <th>mfcc_12</th>\n",
              "      <th>mfcc_13</th>\n",
              "      <th>mfcc_14</th>\n",
              "      <th>mfcc_15</th>\n",
              "      <th>mfcc_16</th>\n",
              "      <th>mfcc_17</th>\n",
              "      <th>mfcc_18</th>\n",
              "      <th>mfcc_19</th>\n",
              "    </tr>\n",
              "  </thead>\n",
              "  <tbody>\n",
              "    <tr>\n",
              "      <th>count</th>\n",
              "      <td>1295.000000</td>\n",
              "      <td>1295.000000</td>\n",
              "      <td>1295.000000</td>\n",
              "      <td>1295.000000</td>\n",
              "      <td>1295.000000</td>\n",
              "      <td>1295.000000</td>\n",
              "      <td>1295.000000</td>\n",
              "      <td>1295.000000</td>\n",
              "      <td>1295.000000</td>\n",
              "      <td>1295.000000</td>\n",
              "      <td>...</td>\n",
              "      <td>1295.000000</td>\n",
              "      <td>1295.000000</td>\n",
              "      <td>1295.000000</td>\n",
              "      <td>1295.000000</td>\n",
              "      <td>1295.000000</td>\n",
              "      <td>1295.000000</td>\n",
              "      <td>1295.000000</td>\n",
              "      <td>1295.000000</td>\n",
              "      <td>1295.000000</td>\n",
              "      <td>1295.000000</td>\n",
              "    </tr>\n",
              "    <tr>\n",
              "      <th>mean</th>\n",
              "      <td>0.442645</td>\n",
              "      <td>0.431647</td>\n",
              "      <td>0.428818</td>\n",
              "      <td>0.430589</td>\n",
              "      <td>0.415587</td>\n",
              "      <td>0.412849</td>\n",
              "      <td>0.410535</td>\n",
              "      <td>0.427040</td>\n",
              "      <td>0.442904</td>\n",
              "      <td>0.448732</td>\n",
              "      <td>...</td>\n",
              "      <td>-2.427430</td>\n",
              "      <td>-2.641631</td>\n",
              "      <td>-2.198878</td>\n",
              "      <td>-3.285687</td>\n",
              "      <td>-2.430402</td>\n",
              "      <td>-1.899739</td>\n",
              "      <td>-3.719431</td>\n",
              "      <td>-2.224224</td>\n",
              "      <td>-3.127743</td>\n",
              "      <td>-5.197278</td>\n",
              "    </tr>\n",
              "    <tr>\n",
              "      <th>std</th>\n",
              "      <td>0.061613</td>\n",
              "      <td>0.062396</td>\n",
              "      <td>0.060244</td>\n",
              "      <td>0.062065</td>\n",
              "      <td>0.068203</td>\n",
              "      <td>0.062720</td>\n",
              "      <td>0.054460</td>\n",
              "      <td>0.055222</td>\n",
              "      <td>0.064527</td>\n",
              "      <td>0.073032</td>\n",
              "      <td>...</td>\n",
              "      <td>4.294633</td>\n",
              "      <td>3.643524</td>\n",
              "      <td>4.496601</td>\n",
              "      <td>3.425751</td>\n",
              "      <td>2.991470</td>\n",
              "      <td>4.162092</td>\n",
              "      <td>2.970809</td>\n",
              "      <td>3.071128</td>\n",
              "      <td>4.577436</td>\n",
              "      <td>3.465929</td>\n",
              "    </tr>\n",
              "    <tr>\n",
              "      <th>min</th>\n",
              "      <td>0.262131</td>\n",
              "      <td>0.244584</td>\n",
              "      <td>0.238648</td>\n",
              "      <td>0.194316</td>\n",
              "      <td>0.206142</td>\n",
              "      <td>0.200249</td>\n",
              "      <td>0.231276</td>\n",
              "      <td>0.234884</td>\n",
              "      <td>0.249426</td>\n",
              "      <td>0.254751</td>\n",
              "      <td>...</td>\n",
              "      <td>-18.162441</td>\n",
              "      <td>-13.797383</td>\n",
              "      <td>-16.062029</td>\n",
              "      <td>-12.926467</td>\n",
              "      <td>-12.529886</td>\n",
              "      <td>-12.298382</td>\n",
              "      <td>-12.882114</td>\n",
              "      <td>-9.802709</td>\n",
              "      <td>-15.650175</td>\n",
              "      <td>-14.678595</td>\n",
              "    </tr>\n",
              "    <tr>\n",
              "      <th>25%</th>\n",
              "      <td>0.399901</td>\n",
              "      <td>0.387957</td>\n",
              "      <td>0.388321</td>\n",
              "      <td>0.395312</td>\n",
              "      <td>0.378835</td>\n",
              "      <td>0.381024</td>\n",
              "      <td>0.380309</td>\n",
              "      <td>0.394349</td>\n",
              "      <td>0.401217</td>\n",
              "      <td>0.394883</td>\n",
              "      <td>...</td>\n",
              "      <td>-4.975865</td>\n",
              "      <td>-5.173128</td>\n",
              "      <td>-5.225544</td>\n",
              "      <td>-5.412352</td>\n",
              "      <td>-4.224741</td>\n",
              "      <td>-4.664872</td>\n",
              "      <td>-5.541237</td>\n",
              "      <td>-4.323991</td>\n",
              "      <td>-5.565398</td>\n",
              "      <td>-7.518232</td>\n",
              "    </tr>\n",
              "    <tr>\n",
              "      <th>50%</th>\n",
              "      <td>0.450872</td>\n",
              "      <td>0.439537</td>\n",
              "      <td>0.434177</td>\n",
              "      <td>0.438681</td>\n",
              "      <td>0.426761</td>\n",
              "      <td>0.423374</td>\n",
              "      <td>0.414279</td>\n",
              "      <td>0.430301</td>\n",
              "      <td>0.445688</td>\n",
              "      <td>0.451441</td>\n",
              "      <td>...</td>\n",
              "      <td>-2.591740</td>\n",
              "      <td>-2.522322</td>\n",
              "      <td>-1.993239</td>\n",
              "      <td>-3.710402</td>\n",
              "      <td>-2.445628</td>\n",
              "      <td>-1.343785</td>\n",
              "      <td>-3.825920</td>\n",
              "      <td>-2.735315</td>\n",
              "      <td>-2.541640</td>\n",
              "      <td>-4.484240</td>\n",
              "    </tr>\n",
              "    <tr>\n",
              "      <th>75%</th>\n",
              "      <td>0.487967</td>\n",
              "      <td>0.478127</td>\n",
              "      <td>0.471289</td>\n",
              "      <td>0.475476</td>\n",
              "      <td>0.461890</td>\n",
              "      <td>0.453645</td>\n",
              "      <td>0.445867</td>\n",
              "      <td>0.460201</td>\n",
              "      <td>0.487562</td>\n",
              "      <td>0.505278</td>\n",
              "      <td>...</td>\n",
              "      <td>-0.102318</td>\n",
              "      <td>-0.184075</td>\n",
              "      <td>1.238977</td>\n",
              "      <td>-1.548598</td>\n",
              "      <td>-0.591308</td>\n",
              "      <td>0.891908</td>\n",
              "      <td>-1.658889</td>\n",
              "      <td>-0.515340</td>\n",
              "      <td>-0.159340</td>\n",
              "      <td>-2.620728</td>\n",
              "    </tr>\n",
              "    <tr>\n",
              "      <th>max</th>\n",
              "      <td>0.587117</td>\n",
              "      <td>0.577272</td>\n",
              "      <td>0.583900</td>\n",
              "      <td>0.595664</td>\n",
              "      <td>0.596439</td>\n",
              "      <td>0.625204</td>\n",
              "      <td>0.576505</td>\n",
              "      <td>0.623918</td>\n",
              "      <td>0.668041</td>\n",
              "      <td>0.612556</td>\n",
              "      <td>...</td>\n",
              "      <td>16.366247</td>\n",
              "      <td>7.965700</td>\n",
              "      <td>8.528114</td>\n",
              "      <td>9.712669</td>\n",
              "      <td>7.923609</td>\n",
              "      <td>9.398653</td>\n",
              "      <td>5.693242</td>\n",
              "      <td>8.251786</td>\n",
              "      <td>7.401682</td>\n",
              "      <td>2.475161</td>\n",
              "    </tr>\n",
              "  </tbody>\n",
              "</table>\n",
              "<p>8 rows × 37 columns</p>\n",
              "</div>\n",
              "    <div class=\"colab-df-buttons\">\n",
              "\n",
              "  <div class=\"colab-df-container\">\n",
              "    <button class=\"colab-df-convert\" onclick=\"convertToInteractive('df-275cdf8e-d678-495b-9c4d-e57cfc61260a')\"\n",
              "            title=\"Convert this dataframe to an interactive table.\"\n",
              "            style=\"display:none;\">\n",
              "\n",
              "  <svg xmlns=\"http://www.w3.org/2000/svg\" height=\"24px\" viewBox=\"0 -960 960 960\">\n",
              "    <path d=\"M120-120v-720h720v720H120Zm60-500h600v-160H180v160Zm220 220h160v-160H400v160Zm0 220h160v-160H400v160ZM180-400h160v-160H180v160Zm440 0h160v-160H620v160ZM180-180h160v-160H180v160Zm440 0h160v-160H620v160Z\"/>\n",
              "  </svg>\n",
              "    </button>\n",
              "\n",
              "  <style>\n",
              "    .colab-df-container {\n",
              "      display:flex;\n",
              "      gap: 12px;\n",
              "    }\n",
              "\n",
              "    .colab-df-convert {\n",
              "      background-color: #E8F0FE;\n",
              "      border: none;\n",
              "      border-radius: 50%;\n",
              "      cursor: pointer;\n",
              "      display: none;\n",
              "      fill: #1967D2;\n",
              "      height: 32px;\n",
              "      padding: 0 0 0 0;\n",
              "      width: 32px;\n",
              "    }\n",
              "\n",
              "    .colab-df-convert:hover {\n",
              "      background-color: #E2EBFA;\n",
              "      box-shadow: 0px 1px 2px rgba(60, 64, 67, 0.3), 0px 1px 3px 1px rgba(60, 64, 67, 0.15);\n",
              "      fill: #174EA6;\n",
              "    }\n",
              "\n",
              "    .colab-df-buttons div {\n",
              "      margin-bottom: 4px;\n",
              "    }\n",
              "\n",
              "    [theme=dark] .colab-df-convert {\n",
              "      background-color: #3B4455;\n",
              "      fill: #D2E3FC;\n",
              "    }\n",
              "\n",
              "    [theme=dark] .colab-df-convert:hover {\n",
              "      background-color: #434B5C;\n",
              "      box-shadow: 0px 1px 3px 1px rgba(0, 0, 0, 0.15);\n",
              "      filter: drop-shadow(0px 1px 2px rgba(0, 0, 0, 0.3));\n",
              "      fill: #FFFFFF;\n",
              "    }\n",
              "  </style>\n",
              "\n",
              "    <script>\n",
              "      const buttonEl =\n",
              "        document.querySelector('#df-275cdf8e-d678-495b-9c4d-e57cfc61260a button.colab-df-convert');\n",
              "      buttonEl.style.display =\n",
              "        google.colab.kernel.accessAllowed ? 'block' : 'none';\n",
              "\n",
              "      async function convertToInteractive(key) {\n",
              "        const element = document.querySelector('#df-275cdf8e-d678-495b-9c4d-e57cfc61260a');\n",
              "        const dataTable =\n",
              "          await google.colab.kernel.invokeFunction('convertToInteractive',\n",
              "                                                    [key], {});\n",
              "        if (!dataTable) return;\n",
              "\n",
              "        const docLinkHtml = 'Like what you see? Visit the ' +\n",
              "          '<a target=\"_blank\" href=https://colab.research.google.com/notebooks/data_table.ipynb>data table notebook</a>'\n",
              "          + ' to learn more about interactive tables.';\n",
              "        element.innerHTML = '';\n",
              "        dataTable['output_type'] = 'display_data';\n",
              "        await google.colab.output.renderOutput(dataTable, element);\n",
              "        const docLink = document.createElement('div');\n",
              "        docLink.innerHTML = docLinkHtml;\n",
              "        element.appendChild(docLink);\n",
              "      }\n",
              "    </script>\n",
              "  </div>\n",
              "\n",
              "\n",
              "<div id=\"df-f2228f30-e3b0-4587-8615-b07a8a4746f5\">\n",
              "  <button class=\"colab-df-quickchart\" onclick=\"quickchart('df-f2228f30-e3b0-4587-8615-b07a8a4746f5')\"\n",
              "            title=\"Suggest charts\"\n",
              "            style=\"display:none;\">\n",
              "\n",
              "<svg xmlns=\"http://www.w3.org/2000/svg\" height=\"24px\"viewBox=\"0 0 24 24\"\n",
              "     width=\"24px\">\n",
              "    <g>\n",
              "        <path d=\"M19 3H5c-1.1 0-2 .9-2 2v14c0 1.1.9 2 2 2h14c1.1 0 2-.9 2-2V5c0-1.1-.9-2-2-2zM9 17H7v-7h2v7zm4 0h-2V7h2v10zm4 0h-2v-4h2v4z\"/>\n",
              "    </g>\n",
              "</svg>\n",
              "  </button>\n",
              "\n",
              "<style>\n",
              "  .colab-df-quickchart {\n",
              "      --bg-color: #E8F0FE;\n",
              "      --fill-color: #1967D2;\n",
              "      --hover-bg-color: #E2EBFA;\n",
              "      --hover-fill-color: #174EA6;\n",
              "      --disabled-fill-color: #AAA;\n",
              "      --disabled-bg-color: #DDD;\n",
              "  }\n",
              "\n",
              "  [theme=dark] .colab-df-quickchart {\n",
              "      --bg-color: #3B4455;\n",
              "      --fill-color: #D2E3FC;\n",
              "      --hover-bg-color: #434B5C;\n",
              "      --hover-fill-color: #FFFFFF;\n",
              "      --disabled-bg-color: #3B4455;\n",
              "      --disabled-fill-color: #666;\n",
              "  }\n",
              "\n",
              "  .colab-df-quickchart {\n",
              "    background-color: var(--bg-color);\n",
              "    border: none;\n",
              "    border-radius: 50%;\n",
              "    cursor: pointer;\n",
              "    display: none;\n",
              "    fill: var(--fill-color);\n",
              "    height: 32px;\n",
              "    padding: 0;\n",
              "    width: 32px;\n",
              "  }\n",
              "\n",
              "  .colab-df-quickchart:hover {\n",
              "    background-color: var(--hover-bg-color);\n",
              "    box-shadow: 0 1px 2px rgba(60, 64, 67, 0.3), 0 1px 3px 1px rgba(60, 64, 67, 0.15);\n",
              "    fill: var(--button-hover-fill-color);\n",
              "  }\n",
              "\n",
              "  .colab-df-quickchart-complete:disabled,\n",
              "  .colab-df-quickchart-complete:disabled:hover {\n",
              "    background-color: var(--disabled-bg-color);\n",
              "    fill: var(--disabled-fill-color);\n",
              "    box-shadow: none;\n",
              "  }\n",
              "\n",
              "  .colab-df-spinner {\n",
              "    border: 2px solid var(--fill-color);\n",
              "    border-color: transparent;\n",
              "    border-bottom-color: var(--fill-color);\n",
              "    animation:\n",
              "      spin 1s steps(1) infinite;\n",
              "  }\n",
              "\n",
              "  @keyframes spin {\n",
              "    0% {\n",
              "      border-color: transparent;\n",
              "      border-bottom-color: var(--fill-color);\n",
              "      border-left-color: var(--fill-color);\n",
              "    }\n",
              "    20% {\n",
              "      border-color: transparent;\n",
              "      border-left-color: var(--fill-color);\n",
              "      border-top-color: var(--fill-color);\n",
              "    }\n",
              "    30% {\n",
              "      border-color: transparent;\n",
              "      border-left-color: var(--fill-color);\n",
              "      border-top-color: var(--fill-color);\n",
              "      border-right-color: var(--fill-color);\n",
              "    }\n",
              "    40% {\n",
              "      border-color: transparent;\n",
              "      border-right-color: var(--fill-color);\n",
              "      border-top-color: var(--fill-color);\n",
              "    }\n",
              "    60% {\n",
              "      border-color: transparent;\n",
              "      border-right-color: var(--fill-color);\n",
              "    }\n",
              "    80% {\n",
              "      border-color: transparent;\n",
              "      border-right-color: var(--fill-color);\n",
              "      border-bottom-color: var(--fill-color);\n",
              "    }\n",
              "    90% {\n",
              "      border-color: transparent;\n",
              "      border-bottom-color: var(--fill-color);\n",
              "    }\n",
              "  }\n",
              "</style>\n",
              "\n",
              "  <script>\n",
              "    async function quickchart(key) {\n",
              "      const quickchartButtonEl =\n",
              "        document.querySelector('#' + key + ' button');\n",
              "      quickchartButtonEl.disabled = true;  // To prevent multiple clicks.\n",
              "      quickchartButtonEl.classList.add('colab-df-spinner');\n",
              "      try {\n",
              "        const charts = await google.colab.kernel.invokeFunction(\n",
              "            'suggestCharts', [key], {});\n",
              "      } catch (error) {\n",
              "        console.error('Error during call to suggestCharts:', error);\n",
              "      }\n",
              "      quickchartButtonEl.classList.remove('colab-df-spinner');\n",
              "      quickchartButtonEl.classList.add('colab-df-quickchart-complete');\n",
              "    }\n",
              "    (() => {\n",
              "      let quickchartButtonEl =\n",
              "        document.querySelector('#df-f2228f30-e3b0-4587-8615-b07a8a4746f5 button');\n",
              "      quickchartButtonEl.style.display =\n",
              "        google.colab.kernel.accessAllowed ? 'block' : 'none';\n",
              "    })();\n",
              "  </script>\n",
              "</div>\n",
              "    </div>\n",
              "  </div>\n"
            ],
            "text/plain": [
              "          chroma_0     chroma_1     chroma_2     chroma_3     chroma_4  \\\n",
              "count  1295.000000  1295.000000  1295.000000  1295.000000  1295.000000   \n",
              "mean      0.442645     0.431647     0.428818     0.430589     0.415587   \n",
              "std       0.061613     0.062396     0.060244     0.062065     0.068203   \n",
              "min       0.262131     0.244584     0.238648     0.194316     0.206142   \n",
              "25%       0.399901     0.387957     0.388321     0.395312     0.378835   \n",
              "50%       0.450872     0.439537     0.434177     0.438681     0.426761   \n",
              "75%       0.487967     0.478127     0.471289     0.475476     0.461890   \n",
              "max       0.587117     0.577272     0.583900     0.595664     0.596439   \n",
              "\n",
              "          chroma_5     chroma_6     chroma_7     chroma_8     chroma_9  ...  \\\n",
              "count  1295.000000  1295.000000  1295.000000  1295.000000  1295.000000  ...   \n",
              "mean      0.412849     0.410535     0.427040     0.442904     0.448732  ...   \n",
              "std       0.062720     0.054460     0.055222     0.064527     0.073032  ...   \n",
              "min       0.200249     0.231276     0.234884     0.249426     0.254751  ...   \n",
              "25%       0.381024     0.380309     0.394349     0.401217     0.394883  ...   \n",
              "50%       0.423374     0.414279     0.430301     0.445688     0.451441  ...   \n",
              "75%       0.453645     0.445867     0.460201     0.487562     0.505278  ...   \n",
              "max       0.625204     0.576505     0.623918     0.668041     0.612556  ...   \n",
              "\n",
              "           mfcc_10      mfcc_11      mfcc_12      mfcc_13      mfcc_14  \\\n",
              "count  1295.000000  1295.000000  1295.000000  1295.000000  1295.000000   \n",
              "mean     -2.427430    -2.641631    -2.198878    -3.285687    -2.430402   \n",
              "std       4.294633     3.643524     4.496601     3.425751     2.991470   \n",
              "min     -18.162441   -13.797383   -16.062029   -12.926467   -12.529886   \n",
              "25%      -4.975865    -5.173128    -5.225544    -5.412352    -4.224741   \n",
              "50%      -2.591740    -2.522322    -1.993239    -3.710402    -2.445628   \n",
              "75%      -0.102318    -0.184075     1.238977    -1.548598    -0.591308   \n",
              "max      16.366247     7.965700     8.528114     9.712669     7.923609   \n",
              "\n",
              "           mfcc_15      mfcc_16      mfcc_17      mfcc_18      mfcc_19  \n",
              "count  1295.000000  1295.000000  1295.000000  1295.000000  1295.000000  \n",
              "mean     -1.899739    -3.719431    -2.224224    -3.127743    -5.197278  \n",
              "std       4.162092     2.970809     3.071128     4.577436     3.465929  \n",
              "min     -12.298382   -12.882114    -9.802709   -15.650175   -14.678595  \n",
              "25%      -4.664872    -5.541237    -4.323991    -5.565398    -7.518232  \n",
              "50%      -1.343785    -3.825920    -2.735315    -2.541640    -4.484240  \n",
              "75%       0.891908    -1.658889    -0.515340    -0.159340    -2.620728  \n",
              "max       9.398653     5.693242     8.251786     7.401682     2.475161  \n",
              "\n",
              "[8 rows x 37 columns]"
            ]
          },
          "execution_count": 54,
          "metadata": {},
          "output_type": "execute_result"
        }
      ],
      "source": [
        "grouped_data.get_group('FAKE').describe()"
      ]
    },
    {
      "cell_type": "markdown",
      "metadata": {
        "id": "hJKM2ZPgRDuS"
      },
      "source": [
        "Aqui, agrupamos os dados com base na coluna 'LABEL' e calculamos a descrição estatística para o grupo de dados rotulado como 'REAL' e 'FAKE'. Isso inclui estatísticas como média, desvio padrão, quartis, etc., fornecendo uma visão detalhada das características dos áudios reais. Com isso, podemos comparar as características estatísticas entre áudios reais e deepfakes."
      ]
    },
    {
      "cell_type": "code",
      "execution_count": null,
      "metadata": {
        "colab": {
          "base_uri": "https://localhost:8080/"
        },
        "id": "ebC5PiHSNwnD",
        "outputId": "513fde5e-fc71-4ea8-b9c6-7e3819da5abb"
      },
      "outputs": [
        {
          "data": {
            "text/plain": [
              "FAKE    1295\n",
              "REAL     185\n",
              "Name: LABEL, dtype: int64"
            ]
          },
          "execution_count": 55,
          "metadata": {},
          "output_type": "execute_result"
        }
      ],
      "source": [
        "MD['LABEL'].value_counts()"
      ]
    },
    {
      "cell_type": "markdown",
      "metadata": {
        "id": "03Tc7tAydsss"
      },
      "source": [
        "# TREINAMENTO DO MODELO"
      ]
    },
    {
      "cell_type": "markdown",
      "metadata": {
        "id": "DrgOAMUfRqdr"
      },
      "source": [
        "\n",
        "No decorrer de nossa análise, utilizando métricas como acurácia e precisão para avaliar o desempenho, identificamos que o modelo K-Nearest Neighbors (KNN) com apenas um vizinho mais próximo se destacou como o mais eficaz. Curiosamente, apesar de sua simplicidade comparativa em relação a abordagens mais complexas, o KNN demonstrou ser excepcionalmente competente, superando outros modelos testados. Este resultado é particularmente notável considerando que o KNN, devido à sua natureza fundamentalmente simples, muitas vezes não é esperado para superar modelos mais sofisticados. Nosso estudo avançou com métodos de teste que consideramos serem os mais robustos, e nesse contexto, a superioridade do KNN foi ainda mais evidente, sublinhando que, mesmo sendo um modelo simples, pode alcançar resultados surpreendentemente bons."
      ]
    },
    {
      "cell_type": "code",
      "execution_count": null,
      "metadata": {
        "id": "_W30b56JUjsp"
      },
      "outputs": [],
      "source": [
        "def plot_confusion_matrix(y_test, y_pred, classes,\n",
        "                          normalize=False,\n",
        "                          title='Matriz de Confusão',\n",
        "                          cmap=plt.cm.Blues):\n",
        "\n",
        "    cm = confusion_matrix(y_test, y_pred)\n",
        "    if normalize:\n",
        "        cm = cm.astype('float') / cm.sum(axis=1)[:, np.newaxis]\n",
        "        print(\"Matriz de confusão normalizada\")\n",
        "    else:\n",
        "        print('Matriz de confusão, sem normalização')\n",
        "\n",
        "    plt.imshow(cm, interpolation='nearest', cmap=cmap)\n",
        "    plt.title(title)\n",
        "    plt.colorbar()\n",
        "    tick_marks = np.arange(len(classes))\n",
        "    plt.xticks(tick_marks, classes, rotation=45)\n",
        "    plt.yticks(tick_marks, classes)\n",
        "\n",
        "    fmt = '.2f' if normalize else 'd'\n",
        "    thresh = cm.max() / 2.\n",
        "    for i, j in np.ndindex(cm.shape):\n",
        "        plt.text(j, i, format(cm[i, j], fmt),\n",
        "                 horizontalalignment=\"center\",\n",
        "                 color=\"white\" if cm[i, j] > thresh else \"black\")\n",
        "\n",
        "    plt.tight_layout()\n",
        "    plt.ylabel('Etiqueta verdadeira')\n",
        "    plt.xlabel('Etiqueta prevista')"
      ]
    },
    {
      "cell_type": "code",
      "execution_count": null,
      "metadata": {
        "id": "IHzooqnuOtdv"
      },
      "outputs": [],
      "source": [
        "oradores = [\"biden\", \"obama\", \"musk\", \"taylor\", \"margot\", \"trump\", \"ryan\", \"linus\"]\n",
        "\n",
        "audios_escolhidos = {}\n",
        "\n",
        "arquivos_fake_escolhidos = []\n",
        "\n",
        "for orador in oradores:\n",
        "    audios_orador = [arquivo for arquivo in csv_fakes if os.path.basename(arquivo).lower().startswith(orador)]\n",
        "    audios_escolhidos[orador] = random.sample(audios_orador, 2)\n",
        "    arquivos_fake_escolhidos += audios_escolhidos[orador]\n",
        "\n",
        "# for orador, audios in audios_escolhidos.items():\n",
        "#     print(f\"Áudios escolhidos para {orador}:\")\n",
        "#     for audio in audios:\n",
        "#         print(audio)"
      ]
    },
    {
      "cell_type": "code",
      "execution_count": null,
      "metadata": {
        "id": "SVBqquHmbtdD"
      },
      "outputs": [],
      "source": [
        "def remover_colunas(df):\n",
        "  colunas_para_remover = []\n",
        "\n",
        "  return df.drop(columns=colunas_para_remover)"
      ]
    },
    {
      "cell_type": "code",
      "execution_count": null,
      "metadata": {
        "id": "Lqp7QwSKOxX0"
      },
      "outputs": [],
      "source": [
        "lista_dfs = []\n",
        "\n",
        "for file_path in csv_reais + arquivos_fake_escolhidos + csv_reais:\n",
        "    df_atual = pd.read_csv(file_path)\n",
        "    lista_dfs.append(df_atual)\n",
        "\n",
        "MD = pd.concat(lista_dfs, ignore_index=True)\n",
        "MD = remover_colunas(MD)"
      ]
    },
    {
      "cell_type": "code",
      "execution_count": null,
      "metadata": {
        "colab": {
          "base_uri": "https://localhost:8080/",
          "height": 280
        },
        "id": "ULS9G7hIYDVT",
        "outputId": "e41ad893-ab35-4679-c357-29c57ba41d68"
      },
      "outputs": [
        {
          "name": "stdout",
          "output_type": "stream",
          "text": [
            "Acurácia: 0.9459459459459459\n",
            "\n",
            "Relatório de Classificação:\n",
            "               precision    recall  f1-score   support\n",
            "\n",
            "        FAKE       1.00      0.90      0.95        41\n",
            "        REAL       0.89      1.00      0.94        33\n",
            "\n",
            "    accuracy                           0.95        74\n",
            "   macro avg       0.95      0.95      0.95        74\n",
            "weighted avg       0.95      0.95      0.95        74\n",
            "\n",
            "Matriz de confusão, sem normalização\n"
          ]
        },
        {
          "data": {
            "image/png": "[encoded data removed]",
            "text/plain": [
              "<Figure size 640x480 with 2 Axes>"
            ]
          },
          "metadata": {},
          "output_type": "display_data"
        }
      ],
      "source": [
        "# Divisão dos Dados\n",
        "X = MD.drop('LABEL', axis=1)\n",
        "y = MD['LABEL']\n",
        "\n",
        "# Normalização dos Dados\n",
        "scaler = MinMaxScaler()\n",
        "X_normalized = scaler.fit_transform(X)\n",
        "\n",
        "# Divisão em Conjuntos de Treinamento e Teste\n",
        "X_train, X_test, y_train, y_test = train_test_split(X, y, test_size=0.1, random_state=42)\n",
        "\n",
        "def get_knn_classifier(n):\n",
        "  knn = KNeighborsClassifier(n_neighbors=n)\n",
        "  knn.fit(X_train, y_train)\n",
        "  return knn\n",
        "\n",
        "# Treinamento do Modelo\n",
        "knn_classifier = get_knn_classifier(1)\n",
        "# knn_classifier_10 = get_knn_classifier(10)\n",
        "# knn_classifier_15 = get_knn_classifier(15)\n",
        "# knn_classifier_20 = get_knn_classifier(20)\n",
        "\n",
        "# Avaliação do Modelo\n",
        "# Sugestão para análise: Troque o argumento n de knn_classifier para encontrar modelos com diferentes k-nearest neighbours\n",
        "y_pred = knn_classifier.predict(X_test)\n",
        "\n",
        "# Exibição de Métricas\n",
        "print(\"Acurácia:\", accuracy_score(y_test, y_pred))\n",
        "print(\"\\nRelatório de Classificação:\\n\", classification_report(y_test, y_pred))\n",
        "\n",
        "plot_confusion_matrix(y_test, y_pred,  [\"Fake\", \"Real\"])\n"
      ]
    },
    {
      "cell_type": "markdown",
      "metadata": {
        "id": "tVPDQlcmSP-s"
      },
      "source": [
        "Os resultados do treinamento do modelo KNN para a detecção de deepfakes em áudios são promissores. O modelo exibe boa precisão e recall para ambas as classes (\"FAKE\" e \"REAL\"). A análise detalhada revela uma precisão de 94% na detecção de deepfakes, indicando que, quando classifica um áudio como falso, o modelo está correto em 94% das vezes. O recall de 94% para áudios reais sugere que o modelo identifica corretamente a maioria dos áudios autênticos. A matriz de confusão mostra um número limitado de falsos positivos e falsos negativos."
      ]
    },
    {
      "cell_type": "markdown",
      "metadata": {
        "id": "julRyWK-GLF-"
      },
      "source": [
        "# Testagem Ampla de Desempenho\n",
        "\n",
        "Ao testar o modelo com áudios não utilizados no treinamento, pudemos avaliar sua capacidade de generalização. Isso é, sua habilidade de aplicar o conhecimento adquirido durante o treinamento para identificar com precisão deep fakes em amostras que nunca havia encontrado, refletindo assim o desempenho real do modelo em um ambiente operacional."
      ]
    },
    {
      "cell_type": "code",
      "execution_count": null,
      "metadata": {
        "id": "P_teIqGjO1Fp"
      },
      "outputs": [],
      "source": [
        "oradores = [\"biden\", \"obama\", \"musk\", \"taylor\", \"margot\", \"trump\", \"ryan\", \"linus\"]\n",
        "\n",
        "audios_escolhidos_2 = {}\n",
        "\n",
        "arquivos_fake_escolhidos_2 = []\n",
        "\n",
        "for orador in oradores:\n",
        "    audios_orador = [arquivo for arquivo in csv_fakes if os.path.basename(arquivo).lower().startswith(orador) and arquivo not in audios_escolhidos[orador]]\n",
        "    audios_escolhidos_2[orador] = random.sample(audios_orador, 4)\n",
        "    arquivos_fake_escolhidos_2 += audios_escolhidos_2[orador]\n",
        "\n",
        "# for orador, audios in audios_escolhidos_2.items():\n",
        "#     print(f\"Áudios escolhidos para {orador}:\")\n",
        "#     for audio in audios:\n",
        "#         print(audio)"
      ]
    },
    {
      "cell_type": "code",
      "execution_count": null,
      "metadata": {
        "id": "13uvAbRhOttp"
      },
      "outputs": [],
      "source": [
        "test_dfs = []\n",
        "\n",
        "for file_path in csv_reais + arquivos_fake_escolhidos_2:\n",
        "    df_atual = pd.read_csv(file_path)\n",
        "    test_dfs.append(df_atual)\n",
        "\n",
        "new_test = pd.concat(test_dfs, ignore_index=True)\n",
        "new_test = remover_colunas(new_test)"
      ]
    },
    {
      "cell_type": "code",
      "execution_count": null,
      "metadata": {
        "colab": {
          "base_uri": "https://localhost:8080/",
          "height": 732
        },
        "id": "_6H7rVtgaMrb",
        "outputId": "572e7b0e-956a-4866-dbf4-a1e7575f5565"
      },
      "outputs": [
        {
          "name": "stdout",
          "output_type": "stream",
          "text": [
            "Acurácia nos novos dados: 0.7967567567567567\n",
            "\n",
            "Relatório de Classificação:\n",
            "               precision    recall  f1-score   support\n",
            "\n",
            "        FAKE       1.00      0.75      0.85       740\n",
            "        REAL       0.50      1.00      0.66       185\n",
            "\n",
            "    accuracy                           0.80       925\n",
            "   macro avg       0.75      0.87      0.76       925\n",
            "weighted avg       0.90      0.80      0.82       925\n",
            "\n",
            "Matriz de confusão, sem normalização\n"
          ]
        },
        {
          "data": {
            "image/png": "[encoded data removed]",
            "text/plain": [
              "<Figure size 640x480 with 2 Axes>"
            ]
          },
          "metadata": {},
          "output_type": "display_data"
        }
      ],
      "source": [
        "# Normalizar os dados de teste\n",
        "X_fake_test = new_test.drop('LABEL', axis=1)\n",
        "y_fake_test = new_test['LABEL']\n",
        "\n",
        "X_fake_test_normalized = scaler.fit_transform(X_fake_test)\n",
        "\n",
        "# Prever rótulos usando o modelo k-NN\n",
        "predictions_fake_test = knn_classifier.predict(X_fake_test)\n",
        "\n",
        "# Avaliar a acurácia\n",
        "accuracy_fake_test = accuracy_score(y_fake_test, predictions_fake_test)\n",
        "print(f'Acurácia nos novos dados: {accuracy_fake_test}')\n",
        "print(\"\\nRelatório de Classificação:\\n\", classification_report(y_fake_test, predictions_fake_test))\n",
        "\n",
        "plot_confusion_matrix(y_fake_test, predictions_fake_test, [\"Fake\", \"Real\"])"
      ]
    },
    {
      "cell_type": "markdown",
      "metadata": {
        "id": "VGjlwURmUB7w"
      },
      "source": [
        "Para assegurar a imparcialidade e a precisão dos resultados, selecionamos uma série de áudios gerados por deep fake que não foram incorporados ao conjunto de treinamento do modelo para incluí-los no dataset de testes em uma análise posterior.\n",
        "\n",
        "A inclusão de áudios deep fake não vistos anteriormente pelo modelo em nosso dataset de testes serviu para simular um cenário mais realista, no qual o modelo seria confrontado com novas amostras de deep fakes potencialmente desconhecidas após a sua implantação. Essa estratégia visa verificar a ocorrência de overfitting, uma condição onde o modelo performa excepcionalmente bem nos dados de treinamento devido à memorização, mas falha ao generalizar para novos dados.\n",
        "\n",
        "Além disso, ao testar o modelo com áudios não utilizados no treinamento, pudemos avaliar sua capacidade de generalização. Isso é, sua habilidade de aplicar o conhecimento adquirido durante o treinamento para identificar com precisão deep fakes em amostras que nunca havia encontrado, refletindo assim o desempenho real do modelo em um ambiente operacional."
      ]
    },
    {
      "cell_type": "code",
      "execution_count": null,
      "metadata": {
        "id": "On0z5J13VTca"
      },
      "outputs": [],
      "source": [
        "test_dfs_2 = []\n",
        "\n",
        "for file_path in csv_samples:\n",
        "    df_atual = pd.read_csv(file_path)\n",
        "    test_dfs_2.append(df_atual)\n",
        "\n",
        "new_test_2 = pd.concat(test_dfs_2, ignore_index=True)\n",
        "new_test_2 = pd.concat([new_test_2, new_test[-len(new_test_2):]], ignore_index=True)\n",
        "new_test_2 = remover_colunas(new_test_2)"
      ]
    },
    {
      "cell_type": "code",
      "execution_count": null,
      "metadata": {
        "colab": {
          "base_uri": "https://localhost:8080/",
          "height": 732
        },
        "id": "JIThffN7VXex",
        "outputId": "617234d0-5dd7-4b5c-d442-65187d89442c"
      },
      "outputs": [
        {
          "name": "stdout",
          "output_type": "stream",
          "text": [
            "Acurácia nos novos dados: 0.581081081081081\n",
            "\n",
            "Relatório de Classificação:\n",
            "               precision    recall  f1-score   support\n",
            "\n",
            "        FAKE       0.58      0.57      0.58        37\n",
            "        REAL       0.58      0.59      0.59        37\n",
            "\n",
            "    accuracy                           0.58        74\n",
            "   macro avg       0.58      0.58      0.58        74\n",
            "weighted avg       0.58      0.58      0.58        74\n",
            "\n",
            "Matriz de confusão, sem normalização\n"
          ]
        },
        {
          "data": {
            "image/png": "[encoded data removed]",
            "text/plain": [
              "<Figure size 640x480 with 2 Axes>"
            ]
          },
          "metadata": {},
          "output_type": "display_data"
        }
      ],
      "source": [
        "# Normalizar os dados de teste\n",
        "X_fake_test = new_test_2.drop('LABEL', axis=1)\n",
        "y_fake_test = new_test_2['LABEL']\n",
        "\n",
        "X_fake_test_normalized = scaler.fit_transform(X_fake_test)\n",
        "\n",
        "# Teste com diferentes quantidades de vizinhos:\n",
        "knn_classifier = get_knn_classifier(6)\n",
        "# Prever rótulos usando o modelo k-NN\n",
        "predictions_fake_test = knn_classifier.predict(X_fake_test)\n",
        "\n",
        "# Avaliar a acurácia\n",
        "accuracy_fake_test = accuracy_score(y_fake_test, predictions_fake_test)\n",
        "print(f'Acurácia nos novos dados: {accuracy_fake_test}')\n",
        "print(\"\\nRelatório de Classificação:\\n\", classification_report(y_true=y_fake_test, y_pred=predictions_fake_test, zero_division=0.0))\n",
        "\n",
        "plot_confusion_matrix(y_fake_test, predictions_fake_test, [\"Fake\", \"Real\"])"
      ]
    },
    {
      "cell_type": "markdown",
      "metadata": {
        "id": "IZ3QloLtZtE_"
      },
      "source": [
        "A fim de aprofundar as análises acerca do desempenho do modelo, coletamos um novo conjunto de áudios reais de discursos e pronunciamentos disponíveis. Com esses dados coletados, após processá-los e efetuar os tratamentos necessários, o modelo foi testado. Mais específicamente, esse teste foi realizado com o conjunto de áudios gerados por deep fake aos quais o modelo não teve acesso durante o treinamento, bem como o conjunto de áudios originais novo coletado.\n",
        "\n",
        "Os áudios reais inclusos não correspondem às personas com base nas quais os treinamentos foram feitos, portanto, o modelo não possuía anteriormente nenhuma bae comparativa com essas vozes, diferentemente dos áudios gerados por deep fake. No caso desses, o modelo possuía previamente conhecimento acerca da pessoa dona daquela vóz, ao menos um áudio real sobre a mesma, pela forma com a qual o treinamento está estruturado.\n",
        "\n",
        "Nesse cenário, o desempenho do modelo usado até o momento demonstrou sofrer uma grande redução, o que aponta que o mesmo não está generalizando bem as características geradas por deep fake com base no treinamento que foi dado. É fato que, ao ter trechos desses audios, ou outras amostras do mesmo orador incluídos na etapa de treinamento aumenta consideravelmente a capacidade do modelo de classificar os mesmos. Essa redução significativa também pode ser atribuída ao fato de haverem poucas amostras e, principalmente, haver pouca diversidade nas amostras usadas no teste, já que, caso o modelo esteja processando um áudio ao qual está negativamente enviesado, ele errará tantas predições quanto amostras advindas daquele áudio ( no cenário atual do projeto, costumam haver 7 ou 8 para cada áudio).\n",
        "\n",
        "Em análises empíricas, modelos com diferentes valores de *nearest-neighbours* performam de maneiras diferentes nos cenários explorados até o momento de testes. Há indícios de que um número muito baixo de vizinhos ocasiona em overfitting, que aumenta a acurácia do modelo sobre certos conjuntos aos quais ele está previamente enviesado, mas reduz consideravelmente o desempenho do mesmo em outros conjuntos. No caso, o valor ideal encontrado nos testes que consideraram a acurácia sobre os áudios do mesmo conjunto foi 1 e diverge do valor ideal encontrado sobre áudios cujas características são novas para o modelo."
      ]
    },
    {
      "cell_type": "markdown",
      "metadata": {
        "id": "To63Qow0geCN"
      },
      "source": [
        "# CNN"
      ]
    },
    {
      "cell_type": "code",
      "execution_count": null,
      "metadata": {
        "id": "8LtTrYlIfKLl"
      },
      "outputs": [],
      "source": [
        "# lista_dfs = []\n",
        "\n",
        "# for file_path in csv_reais + arquivos_fake_escolhidos + csv_reais:\n",
        "#     df_atual = pd.read_csv(file_path)\n",
        "#     lista_dfs.append(df_atual)\n",
        "\n",
        "# MD = pd.concat(lista_dfs, ignore_index=True)"
      ]
    },
    {
      "cell_type": "code",
      "execution_count": null,
      "metadata": {
        "id": "4xYAwBqffUir"
      },
      "outputs": [],
      "source": [
        "# test_dfs = []\n",
        "\n",
        "# for file_path in csv_reais + arquivos_fake_escolhidos_2:\n",
        "#     df_atual = pd.read_csv(file_path)\n",
        "#     test_dfs.append(df_atual)\n",
        "\n",
        "# new_test = pd.concat(test_dfs, ignore_index=True)"
      ]
    },
    {
      "cell_type": "code",
      "execution_count": null,
      "metadata": {
        "id": "wJR0OAAOfTtK"
      },
      "outputs": [],
      "source": [
        "# test_dfs_2 = []\n",
        "\n",
        "# for file_path in csv_samples:\n",
        "#     df_atual = pd.read_csv(file_path)\n",
        "#     test_dfs_2.append(df_atual)\n",
        "\n",
        "# new_test_2 = pd.concat(test_dfs_2, ignore_index=True)\n",
        "# new_test_2 = pd.concat([new_test_2, new_test[-len(new_test_2):]], ignore_index=True)"
      ]
    },
    {
      "cell_type": "code",
      "execution_count": null,
      "metadata": {
        "colab": {
          "base_uri": "https://localhost:8080/"
        },
        "id": "0701LVuwa6c7",
        "outputId": "0630c843-7812-4554-faf7-72bbcae93420"
      },
      "outputs": [
        {
          "name": "stdout",
          "output_type": "stream",
          "text": [
            "Epoch 1/20\n",
            "19/19 [==============================] - 2s 28ms/step - loss: 41.2357 - accuracy: 0.4983 - val_loss: 28.0116 - val_accuracy: 0.5338\n",
            "Epoch 2/20\n",
            "19/19 [==============================] - 0s 13ms/step - loss: 17.5190 - accuracy: 0.5709 - val_loss: 18.8688 - val_accuracy: 0.4662\n",
            "Epoch 3/20\n",
            "19/19 [==============================] - 0s 12ms/step - loss: 5.7708 - accuracy: 0.6486 - val_loss: 9.5936 - val_accuracy: 0.4662\n",
            "Epoch 4/20\n",
            "19/19 [==============================] - 0s 15ms/step - loss: 3.5972 - accuracy: 0.6419 - val_loss: 4.0004 - val_accuracy: 0.6824\n",
            "Epoch 5/20\n",
            "19/19 [==============================] - 0s 12ms/step - loss: 3.3269 - accuracy: 0.6757 - val_loss: 7.9389 - val_accuracy: 0.6689\n",
            "Epoch 6/20\n",
            "19/19 [==============================] - 0s 13ms/step - loss: 3.4447 - accuracy: 0.7787 - val_loss: 1.6963 - val_accuracy: 0.6689\n",
            "Epoch 7/20\n",
            "19/19 [==============================] - 0s 11ms/step - loss: 1.3905 - accuracy: 0.7905 - val_loss: 1.4595 - val_accuracy: 0.7365\n",
            "Epoch 8/20\n",
            "19/19 [==============================] - 0s 13ms/step - loss: 1.4431 - accuracy: 0.7635 - val_loss: 1.2657 - val_accuracy: 0.6959\n",
            "Epoch 9/20\n",
            "19/19 [==============================] - 0s 13ms/step - loss: 0.6733 - accuracy: 0.8632 - val_loss: 0.9435 - val_accuracy: 0.8378\n",
            "Epoch 10/20\n",
            "19/19 [==============================] - 0s 17ms/step - loss: 1.3614 - accuracy: 0.8176 - val_loss: 1.3460 - val_accuracy: 0.8243\n",
            "Epoch 11/20\n",
            "19/19 [==============================] - 0s 11ms/step - loss: 4.0847 - accuracy: 0.6926 - val_loss: 2.2468 - val_accuracy: 0.7703\n",
            "Epoch 12/20\n",
            "19/19 [==============================] - 0s 12ms/step - loss: 1.7952 - accuracy: 0.8074 - val_loss: 1.4086 - val_accuracy: 0.8649\n",
            "Epoch 13/20\n",
            "19/19 [==============================] - 0s 12ms/step - loss: 1.8334 - accuracy: 0.7973 - val_loss: 1.1812 - val_accuracy: 0.7973\n",
            "Epoch 14/20\n",
            "19/19 [==============================] - 0s 14ms/step - loss: 2.5101 - accuracy: 0.7838 - val_loss: 2.0093 - val_accuracy: 0.8243\n",
            "Epoch 15/20\n",
            "19/19 [==============================] - 0s 15ms/step - loss: 1.4820 - accuracy: 0.8277 - val_loss: 1.6132 - val_accuracy: 0.7500\n",
            "Epoch 16/20\n",
            "19/19 [==============================] - 0s 14ms/step - loss: 1.8022 - accuracy: 0.7652 - val_loss: 1.5293 - val_accuracy: 0.8243\n",
            "Epoch 17/20\n",
            "19/19 [==============================] - 0s 14ms/step - loss: 0.9807 - accuracy: 0.8378 - val_loss: 0.4269 - val_accuracy: 0.8851\n",
            "Epoch 18/20\n",
            "19/19 [==============================] - 0s 8ms/step - loss: 0.4839 - accuracy: 0.8784 - val_loss: 0.6320 - val_accuracy: 0.8581\n",
            "Epoch 19/20\n",
            "19/19 [==============================] - 0s 9ms/step - loss: 0.7649 - accuracy: 0.8497 - val_loss: 1.1854 - val_accuracy: 0.8649\n",
            "Epoch 20/20\n",
            "19/19 [==============================] - 0s 7ms/step - loss: 0.6676 - accuracy: 0.8598 - val_loss: 0.8827 - val_accuracy: 0.7635\n"
          ]
        }
      ],
      "source": [
        "from tensorflow import keras\n",
        "from keras.models import Sequential\n",
        "from keras.layers import Dense, Conv1D, Flatten, MaxPooling1D, Dropout\n",
        "from keras.utils import to_categorical\n",
        "from sklearn.model_selection import train_test_split\n",
        "from sklearn.preprocessing import LabelEncoder\n",
        "\n",
        "def train_audio_model_from_df(dataframe):\n",
        "    \"\"\"\n",
        "    Treina um modelo para classificar áudios em 'fake' ou 'real' baseado em um DataFrame.\n",
        "    \"\"\"\n",
        "    # Separar features e labels\n",
        "    X = dataframe.iloc[:, :-1].values  # Todas as colunas exceto a última\n",
        "    y = dataframe.iloc[:, -1].values  # A última coluna contém as labels\n",
        "\n",
        "    # Codificar labels 'REAL' e 'FAKE' numericamente\n",
        "    label_encoder = LabelEncoder()\n",
        "    y_encoded = label_encoder.fit_transform(y)\n",
        "    y_categorical = to_categorical(y_encoded)  # Converter para one-hot encoding\n",
        "\n",
        "    # Dividir os dados em conjuntos de treino e teste\n",
        "    X_train, X_test, y_train, y_test = train_test_split(X, y_categorical, test_size=0.2, random_state=42)\n",
        "\n",
        "    # Reformatar os dados para o formato esperado pela CNN 1D\n",
        "    X_train = X_train[..., np.newaxis]\n",
        "    X_test = X_test[..., np.newaxis]\n",
        "\n",
        "    # Construir o modelo\n",
        "    model = Sequential([\n",
        "        Conv1D(32, kernel_size=3, activation='relu', input_shape=(X_train.shape[1], 1)),\n",
        "        MaxPooling1D(2),\n",
        "        Conv1D(128, 3, activation='relu'),\n",
        "        MaxPooling1D(2),\n",
        "        Flatten(),\n",
        "        Dense(y_categorical.shape[1], activation='sigmoid')\n",
        "    ])\n",
        "\n",
        "    # Compilar o modelo\n",
        "    model.compile(optimizer='adam', loss='binary_crossentropy', metrics=['accuracy'])\n",
        "\n",
        "    # Treinar o modelo\n",
        "    history = model.fit(X_train, y_train, epochs=20, batch_size=32, validation_data=(X_test, y_test))\n",
        "\n",
        "    return model, history\n",
        "\n",
        "# Supondo que 'df' seja o seu DataFrame contendo as features e a coluna 'label'\n",
        "\n",
        "model, history = train_audio_model_from_df(MD.sample(frac=1).reset_index(drop=False))"
      ]
    },
    {
      "cell_type": "code",
      "execution_count": null,
      "metadata": {
        "colab": {
          "base_uri": "https://localhost:8080/",
          "height": 124
        },
        "id": "ZEbdM0qvbKjs",
        "outputId": "f8e0d5a6-903e-482b-8904-936b531e8072"
      },
      "outputs": [
        {
          "name": "stdout",
          "output_type": "stream",
          "text": [
            "29/29 [==============================] - 0s 2ms/step\n",
            "Acurácia: 0.4703\n",
            "Precisão: 0.6279\n",
            "Matriz de confusão, sem normalização\n"
          ]
        },
        {
          "data": {
            "image/png": "[encoded data removed]",
            "text/plain": [
              "<Figure size 640x480 with 2 Axes>"
            ]
          },
          "metadata": {},
          "output_type": "display_data"
        }
      ],
      "source": [
        "def evaluate_model(model, test_dataframe):\n",
        "    \"\"\"\n",
        "    Avalia o modelo treinado em um dataframe de teste, calculando e imprimindo a acurácia e precisão.\n",
        "    \"\"\"\n",
        "    # Separar features e labels\n",
        "    X_test = test_dataframe.iloc[:, :-1].values  # Todas as colunas exceto a última\n",
        "    y_test = test_dataframe.iloc[:, -1].values  # A última coluna contém as labels\n",
        "\n",
        "    # Codificar labels 'REAL' e 'FAKE' numericamente\n",
        "    label_encoder = LabelEncoder()\n",
        "    y_test_encoded = label_encoder.fit_transform(y_test)\n",
        "    y_test_categorical = to_categorical(y_test_encoded)  # Converter para one-hot encoding\n",
        "\n",
        "    # Reformatar os dados para o formato esperado pela CNN 1D\n",
        "    X_test = X_test[..., np.newaxis]\n",
        "\n",
        "    # Fazer previsões\n",
        "    predictions = model.predict(X_test)\n",
        "    predicted_classes = np.argmax(predictions, axis=1)\n",
        "    true_classes = np.argmax(y_test_categorical, axis=1)\n",
        "\n",
        "    # Calcular acurácia e precisão\n",
        "    accuracy = accuracy_score(true_classes, predicted_classes)\n",
        "    precision = precision_score(true_classes, predicted_classes, average='macro')\n",
        "\n",
        "    print(f'Acurácia: {accuracy:.4f}')\n",
        "    print(f'Precisão: {precision:.4f}')\n",
        "\n",
        "    plot_confusion_matrix(y_test_encoded, predicted_classes, classes=[\"FAKE\", \"REAL\"])\n",
        "\n",
        "    return accuracy, precision\n",
        "\n",
        "accuracy, precision = evaluate_model(model, new_test.sample(frac=1).reset_index(drop=False))\n",
        "\n"
      ]
    },
    {
      "cell_type": "code",
      "execution_count": null,
      "metadata": {
        "colab": {
          "base_uri": "https://localhost:8080/",
          "height": 124
        },
        "id": "9zQNDcSQdUdn",
        "outputId": "ad19b5d1-aa7f-49ca-b3be-763e026659b6"
      },
      "outputs": [
        {
          "name": "stdout",
          "output_type": "stream",
          "text": [
            "3/3 [==============================] - 0s 4ms/step\n",
            "Acurácia: 0.5541\n",
            "Precisão: 0.5593\n",
            "Matriz de confusão, sem normalização\n"
          ]
        },
        {
          "data": {
            "image/png": "[encoded data removed]",
            "text/plain": [
              "<Figure size 640x480 with 2 Axes>"
            ]
          },
          "metadata": {},
          "output_type": "display_data"
        }
      ],
      "source": [
        "accuracy, precision = evaluate_model(model, new_test_2.sample(frac=1).reset_index(drop=False))"
      ]
    }
  ],
  "metadata": {
    "colab": {
      "provenance": []
    },
    "kernelspec": {
      "display_name": "Python 3",
      "name": "python3"
    },
    "language_info": {
      "name": "python"
    }
  },
  "nbformat": 4,
  "nbformat_minor": 0
}
